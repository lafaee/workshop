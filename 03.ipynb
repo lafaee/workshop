{
 "cells": [
  {
   "cell_type": "markdown",
   "id": "aeaf8a85-9585-48bb-be99-ba5f131e5ce3",
   "metadata": {},
   "source": [
    "# Function Arguments\n"
   ]
  },
  {
   "cell_type": "markdown",
   "id": "e00a34d8-5e69-476f-8fbc-3a8b28a763d5",
   "metadata": {},
   "source": [
    "## Default Arguments\n"
   ]
  },
  {
   "cell_type": "markdown",
   "id": "38dcdb3f-acd4-4977-b2a2-1bb2d607e0cf",
   "metadata": {},
   "source": [
    "- Parameters with predefined values.  \n",
    "- Must appear **after** non-default parameters.  \n",
    "- **Pitfall**: Mutable defaults (e.g., `list`, `dict`) are created once and reused. "
   ]
  },
  {
   "cell_type": "code",
   "execution_count": 1,
   "id": "175bda8e-5c71-4036-8587-709d98f5af09",
   "metadata": {},
   "outputs": [
    {
     "name": "stdout",
     "output_type": "stream",
     "text": [
      "Hello, Guest!\n",
      "Hello, Alice!\n"
     ]
    }
   ],
   "source": [
    "def greet(name=\"Guest\"):  \n",
    "    print(f\"Hello, {name}!\")  \n",
    "\n",
    "greet()          # Output: Hello, Guest!  \n",
    "greet(\"Alice\")   # Output: Hello, Alice!  "
   ]
  },
  {
   "cell_type": "code",
   "execution_count": 2,
   "id": "1dbfb6eb-6cfb-483e-b1b2-949b753b4822",
   "metadata": {},
   "outputs": [
    {
     "name": "stdout",
     "output_type": "stream",
     "text": [
      "[1]\n",
      "[1, 2]\n"
     ]
    }
   ],
   "source": [
    "# Mutable default (danger!)  \n",
    "def add_item(item, items=[]):  \n",
    "    items.append(item)  \n",
    "    return items  \n",
    "\n",
    "print(add_item(1))  # [1]  \n",
    "print(add_item(2))  # [1, 2] (shared list)  \n",
    "\n",
    "# Fix with `None`  \n",
    "def add_item_safe(item, items=None):  \n",
    "    items = items or []  \n",
    "    items.append(item)  \n",
    "    return items  "
   ]
  },
  {
   "cell_type": "markdown",
   "id": "7813001d-3ce2-4ecf-8e1d-60fdc986e91f",
   "metadata": {},
   "source": [
    "- Use immutable defaults (e.g., `None`, `int`, `str`).  \n",
    "- Re-initialize mutable objects inside the function. "
   ]
  },
  {
   "cell_type": "markdown",
   "id": "e6d9f0d7-8591-41e0-a826-8e792874ddc9",
   "metadata": {},
   "source": [
    "## *args (ARBITRARY POSITIONAL ARGUMENTS)  "
   ]
  },
  {
   "cell_type": "markdown",
   "id": "27a409dc-6259-4e68-a41a-4855250daede",
   "metadata": {},
   "source": [
    "- Collects **extra positional arguments** into a tuple.  \n",
    "- Convention: Name it `args` (but `*anything` works).  \n",
    "- Makes functions flexible to handle varying inputs.  \n"
   ]
  },
  {
   "cell_type": "code",
   "execution_count": 3,
   "id": "1d9f9277-1895-4464-8213-706202166b46",
   "metadata": {},
   "outputs": [
    {
     "name": "stdout",
     "output_type": "stream",
     "text": [
      "6\n",
      "30\n"
     ]
    }
   ],
   "source": [
    "def sum_numbers(*args):  \n",
    "    total = 0  \n",
    "    for num in args:  \n",
    "        total += num  \n",
    "    return total  \n",
    "\n",
    "print(sum_numbers(1, 2, 3))     # Output: 6  \n",
    "print(sum_numbers(10, 20))       # Output: 30  "
   ]
  },
  {
   "cell_type": "code",
   "execution_count": 5,
   "id": "3f977631-588f-4190-9f68-ffc5d3808c55",
   "metadata": {},
   "outputs": [
    {
     "name": "stdout",
     "output_type": "stream",
     "text": [
      "[8, 16]\n"
     ]
    }
   ],
   "source": [
    "def print_powers(base, *exponents):  \n",
    "    results = [base ** exp for exp in exponents]  \n",
    "    print(results)  \n",
    "\n",
    "print_powers(2, 3, 4)  # Output: [8, 16]  "
   ]
  },
  {
   "cell_type": "markdown",
   "id": "87d0365a-0eb6-4337-a62b-060f7f24ef59",
   "metadata": {},
   "source": [
    "- `*args` must come **after** positional parameters.  "
   ]
  },
  {
   "cell_type": "markdown",
   "id": "513a3d2a-26f1-425f-a0d8-1349c02c995f",
   "metadata": {},
   "source": [
    "## **kwargs (ARBITRARY KEYWORD ARGUMENTS)  "
   ]
  },
  {
   "cell_type": "markdown",
   "id": "316b0a5d-addc-4e17-bf78-61804e78ed2c",
   "metadata": {},
   "source": [
    "- Collects **extra keyword arguments** into a dictionary.  \n",
    "- Convention: Name it `kwargs` (but `**anything` works).  \n",
    "- Useful for optional settings or configurations.  "
   ]
  },
  {
   "cell_type": "code",
   "execution_count": 6,
   "id": "b2380a3f-284e-4489-a7be-cf6bce811c93",
   "metadata": {},
   "outputs": [
    {
     "name": "stdout",
     "output_type": "stream",
     "text": [
      "name: Alice\n",
      "age: 30\n"
     ]
    }
   ],
   "source": [
    "def print_user(**kwargs):  \n",
    "    for key, value in kwargs.items():  \n",
    "        print(f\"{key}: {value}\")  \n",
    "\n",
    "print_user(name=\"Alice\", age=30)  "
   ]
  },
  {
   "cell_type": "code",
   "execution_count": 8,
   "id": "fc4c6e67-fc5a-4b26-a7a1-43fa560e45ae",
   "metadata": {},
   "outputs": [
    {
     "name": "stdout",
     "output_type": "stream",
     "text": [
      "{'name': 'Bob', 'role': 'Admin', 'email': 'bob@mail.com', 'active': True}\n"
     ]
    }
   ],
   "source": [
    "# Mix with positional/default args  \n",
    "def create_profile(name, role=\"User\", **details):  \n",
    "    profile = {\"name\": name, \"role\": role}  \n",
    "    profile.update(details)  \n",
    "    return profile  \n",
    "\n",
    "user = create_profile(\"Bob\", \"Admin\", email=\"bob@mail.com\", active=True)  \n",
    "print(user)"
   ]
  },
  {
   "cell_type": "markdown",
   "id": "d9fe605f-12ac-4caf-93d5-c4a12139b46f",
   "metadata": {},
   "source": [
    "- `**kwargs` must come **last** in parameter lists.  "
   ]
  },
  {
   "cell_type": "markdown",
   "id": "c9d9d6fb-0322-49a9-ad2d-2893dc186fe7",
   "metadata": {},
   "source": [
    "Packing and Unpacking with * and **"
   ]
  },
  {
   "cell_type": "code",
   "execution_count": 9,
   "id": "c94a1778-3feb-44ab-a8ef-2a062ee18408",
   "metadata": {},
   "outputs": [
    {
     "name": "stdout",
     "output_type": "stream",
     "text": [
      "Coordinates: 10, 20, 30\n",
      "Coordinates: 5, 10, 15\n"
     ]
    }
   ],
   "source": [
    "def point(x, y, z):  \n",
    "    print(f\"Coordinates: {x}, {y}, {z}\")  \n",
    "\n",
    "# Unpack a list/tuple  \n",
    "coordinates = [10, 20, 30]  \n",
    "point(*coordinates)  # Output: Coordinates: 10, 20, 30  \n",
    "\n",
    "# Unpack a dictionary  \n",
    "params = {\"x\": 5, \"y\": 10, \"z\": 15}  \n",
    "point(**params)      # Output: Coordinates: 5, 10, 15  "
   ]
  },
  {
   "cell_type": "markdown",
   "id": "79c40fce-673a-4274-b6c2-4a2cd1674e0c",
   "metadata": {},
   "source": [
    "## Lambda Functions"
   ]
  },
  {
   "cell_type": "markdown",
   "id": "f2fb9c82-445c-40fb-8b6e-610a005c3385",
   "metadata": {},
   "source": [
    " **What is a Lambda?**  \n",
    "   - A small, anonymous function defined with the `lambda` keyword.  \n",
    "   - Syntax: `lambda arguments: expression`  \n",
    "   - Key Properties:  \n",
    "     - No name (anonymous).  \n",
    "     - Single expression (no `return` statement).  \n",
    "     - Can take multiple arguments.  "
   ]
  },
  {
   "cell_type": "markdown",
   "id": "6ca1683e-911e-4488-ae66-b75eae1495f8",
   "metadata": {},
   "source": [
    "**When to Use Lambdas**:  \n",
    "   - Short, simple operations.  \n",
    "   - Functions used only once (e.g., inside `map()`, `filter()`, `sorted()`). "
   ]
  },
  {
   "cell_type": "code",
   "execution_count": 10,
   "id": "c352f1c1-1ae0-4eb4-b252-7af72c5fd517",
   "metadata": {},
   "outputs": [
    {
     "name": "stdout",
     "output_type": "stream",
     "text": [
      "8\n",
      "16\n",
      "Hello, World!\n"
     ]
    }
   ],
   "source": [
    "# 1. Basic Lambda  \n",
    "add = lambda x, y: x + y  \n",
    "print(add(3, 5))          # Output: 8  \n",
    "\n",
    "# 2. Immediately Invoked  \n",
    "print((lambda x: x ** 2)(4))  # Output: 16  \n",
    "\n",
    "# 3. No Arguments  \n",
    "greet = lambda: \"Hello, World!\"  \n",
    "print(greet())            # Output: Hello, World!  "
   ]
  },
  {
   "cell_type": "markdown",
   "id": "cbaa14dd-450e-42e3-8b8f-6eff40e2e79f",
   "metadata": {},
   "source": [
    "--- Lambda vs Regular Functions ---  \n",
    "#### Equivalent regular function  \n",
    "```python\n",
    "def add(x, y):  \n",
    "    return x + y\n",
    "```\n"
   ]
  },
  {
   "cell_type": "markdown",
   "id": "36ad0b47-dbfc-42ce-adbe-42bff979f080",
   "metadata": {},
   "source": [
    "## map, filter, reduce, zip"
   ]
  },
  {
   "cell_type": "markdown",
   "id": "a4c06f98-14f6-4826-abf1-5ce8f79193ed",
   "metadata": {},
   "source": [
    "### Map"
   ]
  },
  {
   "cell_type": "markdown",
   "id": "8b1ab58a-888f-41ad-a26d-b881d9cdfdfb",
   "metadata": {},
   "source": [
    "map(function, iterable)\n",
    "\n",
    "Purpose: Applies a transformation to every element in a collection\n",
    "\n",
    "Mechanics:\n",
    "- Takes a function + one/more iterables\n",
    "- Returns an iterator (lazy evaluation - processes on demand)\n",
    "- Works like an assembly line - processes elements one by on"
   ]
  },
  {
   "cell_type": "code",
   "execution_count": 11,
   "id": "9377efe6-df70-4f60-a9e5-9db92c58eeeb",
   "metadata": {},
   "outputs": [
    {
     "name": "stdout",
     "output_type": "stream",
     "text": [
      "[1, 4, 9, 16]\n",
      "[22.99, 5.17, 117.69]\n"
     ]
    }
   ],
   "source": [
    "# With lambda\n",
    "numbers = [1, 2, 3, 4]\n",
    "squared = map(lambda x: x**2, numbers)\n",
    "print(list(squared))  # [1, 4, 9, 16]\n",
    "\n",
    "# With named function\n",
    "def add_tax(price):\n",
    "    return round(price * 1.15, 2)  # 15% tax\n",
    "\n",
    "prices = [19.99, 4.50, 102.34]\n",
    "taxed_prices = map(add_tax, prices)\n",
    "print(list(taxed_prices))  # [22.99, 5.18, 117.69]"
   ]
  },
  {
   "cell_type": "code",
   "execution_count": 12,
   "id": "7d3584d0-c9c9-48e5-903b-82bb70d2e1aa",
   "metadata": {},
   "outputs": [
    {
     "name": "stdout",
     "output_type": "stream",
     "text": [
      "['Alice: 85%', 'Bob: 92%']\n",
      "['alice@mail.com']\n"
     ]
    }
   ],
   "source": [
    "# Combine data from multiple sources\n",
    "names = [\"Alice\", \"Bob\"]\n",
    "scores = [85, 92]\n",
    "combined = map(lambda name, score: f\"{name}: {score}%\", names, scores)\n",
    "print(list(combined))  # ['Alice: 85%', 'Bob: 92%']\n",
    "\n",
    "\n",
    "# Cleaning user input from web form\n",
    "raw_inputs = [\"  alice@mail.com  \", \" BOB \", \" invalid_email \"]\n",
    "clean_inputs = map(str.strip, raw_inputs)  # Strip whitespace\n",
    "valid_emails = filter(lambda s: \"@\" in s, clean_inputs)\n",
    "print(list(valid_emails))  # ['alice@mail.com', 'invalid_email']"
   ]
  },
  {
   "cell_type": "markdown",
   "id": "a4be3d34-ed9d-4923-84e1-3edf149c82f1",
   "metadata": {},
   "source": [
    "### Filter"
   ]
  },
  {
   "cell_type": "markdown",
   "id": "8fc099ef-9cb8-481e-b153-fa10bd99bd17",
   "metadata": {},
   "source": [
    "Purpose: Select elements that meet specific criteria\n",
    "\n",
    "Mechanics:\n",
    "- Function must return True/False\n",
    "- Returns iterator with elements where function returns True\n",
    "- Think of it as a quality control checkpoint"
   ]
  },
  {
   "cell_type": "code",
   "execution_count": 14,
   "id": "646d935a-f90f-4572-a6a0-23466f2eed3f",
   "metadata": {},
   "outputs": [
    {
     "name": "stdout",
     "output_type": "stream",
     "text": [
      "[22, 42]\n",
      "['Secret123', 'AnotherPass']\n"
     ]
    }
   ],
   "source": [
    "# With lambda\n",
    "numbers = [15, 8, 22, 3, 42, 17]\n",
    "adults = filter(lambda x: x >= 18, numbers)\n",
    "print(list(adults))  # [22, 42, 17]\n",
    "\n",
    "# With named function\n",
    "def is_valid_password(pw):\n",
    "    return len(pw) >= 8 and any(c.isupper() for c in pw)\n",
    "\n",
    "passwords = [\"Secret123\", \"weak\", \"AnotherPass\"]\n",
    "valid = filter(is_valid_password, passwords)\n",
    "print(list(valid))  # ['Secret123', 'AnotherPass']"
   ]
  },
  {
   "cell_type": "code",
   "execution_count": 15,
   "id": "d374aaab-f8b0-4502-a0e8-7ec2dc0a3bfa",
   "metadata": {},
   "outputs": [
    {
     "name": "stdout",
     "output_type": "stream",
     "text": [
      "[0, 15, 30, 45]\n"
     ]
    }
   ],
   "source": [
    "numbers = range(50)\n",
    "filtered = filter(lambda x: x % 3 == 0, numbers)  # Multiples of 3\n",
    "filtered = filter(lambda x: x % 5 == 0, filtered)  # Also multiples of 5\n",
    "print(list(filtered))  # [0, 15, 30, 45]"
   ]
  },
  {
   "cell_type": "markdown",
   "id": "b3027c03-1fdb-486e-80d0-18f19c3737ae",
   "metadata": {},
   "source": [
    "Key Insight: Filter is ideal for data cleansing, validation, and creating subsets of data that meet business rules."
   ]
  },
  {
   "cell_type": "markdown",
   "id": "7f75cc1f-1b84-4dad-8515-81943763fc67",
   "metadata": {},
   "source": [
    "### Reduce"
   ]
  },
  {
   "cell_type": "markdown",
   "id": "67466a58-2994-481c-8dea-4d9c6b6438f0",
   "metadata": {},
   "source": [
    "Purpose: Aggregate values to produce a single result\n",
    "\n",
    "Mechanics:\n",
    "- Requires from functools import reduce\n",
    "- Applies function cumulatively (carries result forward)\n",
    "- Think of it as a snowball rolling downhill"
   ]
  },
  {
   "cell_type": "code",
   "execution_count": 16,
   "id": "692f898d-c62f-4c85-af50-5c16ed82acd1",
   "metadata": {},
   "outputs": [
    {
     "name": "stdout",
     "output_type": "stream",
     "text": [
      "10\n"
     ]
    }
   ],
   "source": [
    "from functools import reduce\n",
    "\n",
    "numbers = [1, 2, 3, 4]\n",
    "sum_result = reduce(lambda a, b: a + b, numbers)\n",
    "print(sum_result)  # Output: 10"
   ]
  },
  {
   "cell_type": "code",
   "execution_count": 17,
   "id": "a228edc4-9721-4588-9bf7-089d590bf040",
   "metadata": {},
   "outputs": [
    {
     "name": "stdout",
     "output_type": "stream",
     "text": [
      "24\n"
     ]
    }
   ],
   "source": [
    "product = reduce(lambda a, b: a * b, numbers)\n",
    "print(product)  # Output: 24 (1*2*3*4)"
   ]
  },
  {
   "cell_type": "code",
   "execution_count": 18,
   "id": "464cf8aa-9b81-4019-a3e6-963c0185fbce",
   "metadata": {},
   "outputs": [
    {
     "name": "stdout",
     "output_type": "stream",
     "text": [
      "9\n"
     ]
    }
   ],
   "source": [
    "max_num = reduce(lambda a, b: a if a > b else b, [7, 2, 9, 4, 5])\n",
    "print(max_num)  # Output: 9"
   ]
  },
  {
   "cell_type": "code",
   "execution_count": 19,
   "id": "82e6e8ec-e77a-4b41-856a-20754090e9f0",
   "metadata": {},
   "outputs": [
    {
     "name": "stdout",
     "output_type": "stream",
     "text": [
      "Hello World!\n"
     ]
    }
   ],
   "source": [
    "words = [\"Hello\", \" \", \"World\", \"!\"]\n",
    "sentence = reduce(lambda a, b: a + b, words)\n",
    "print(sentence)  # Output: \"Hello World!\""
   ]
  },
  {
   "cell_type": "code",
   "execution_count": 20,
   "id": "26cf6822-e351-471a-9be7-ad3c2f8f4140",
   "metadata": {},
   "outputs": [
    {
     "name": "stdout",
     "output_type": "stream",
     "text": [
      "[1, 2, 3, 4, 5]\n"
     ]
    }
   ],
   "source": [
    "nested = [[1, 2], [3, 4], [5]]\n",
    "flattened = reduce(lambda a, b: a + b, nested, [])\n",
    "print(flattened)  # Output: [1, 2, 3, 4, 5]"
   ]
  },
  {
   "cell_type": "code",
   "execution_count": 21,
   "id": "8d6d1aaa-c40f-477f-9bc5-02853c2e084d",
   "metadata": {},
   "outputs": [
    {
     "name": "stdout",
     "output_type": "stream",
     "text": [
      "120\n"
     ]
    }
   ],
   "source": [
    "n = 5\n",
    "factorial = reduce(lambda a, b: a * b, range(1, n+1))\n",
    "print(factorial)  # Output: 120 (5!)"
   ]
  },
  {
   "cell_type": "code",
   "execution_count": 22,
   "id": "9af52b69-5d22-42c7-91c3-65b19fd3afff",
   "metadata": {},
   "outputs": [
    {
     "name": "stdout",
     "output_type": "stream",
     "text": [
      "Final balance: $250\n"
     ]
    }
   ],
   "source": [
    "transactions = [\n",
    "    {'type': 'credit', 'amount': 100},\n",
    "    {'type': 'debit', 'amount': 50},\n",
    "    {'type': 'credit', 'amount': 200}\n",
    "]\n",
    "\n",
    "def balance_reducer(balance, transaction):\n",
    "    if transaction['type'] == 'credit':\n",
    "        return balance + transaction['amount']\n",
    "    return balance - transaction['amount']\n",
    "\n",
    "final_balance = reduce(balance_reducer, transactions, 0)\n",
    "print(f\"Final balance: ${final_balance}\")  # Output: Final balance: $250"
   ]
  },
  {
   "cell_type": "markdown",
   "id": "de61b0fa-3309-4f3c-af76-45f83bf4388e",
   "metadata": {},
   "source": [
    "### Zip"
   ]
  },
  {
   "cell_type": "markdown",
   "id": "f251216d-bd3b-4572-9612-f952b2a11dd8",
   "metadata": {},
   "source": [
    "Purpose: Combine elements from multiple iterables into tuples"
   ]
  },
  {
   "cell_type": "code",
   "execution_count": 32,
   "id": "f5a277a3-16fd-4fb4-b71c-7117726ca674",
   "metadata": {},
   "outputs": [
    {
     "name": "stdout",
     "output_type": "stream",
     "text": [
      "[('Alice', 25), ('Bob', 30), ('Charlie', 28)]\n"
     ]
    }
   ],
   "source": [
    "names = [\"Alice\", \"Bob\", \"Charlie\"]\n",
    "ages = [25, 30, 28]\n",
    "\n",
    "zipped = zip(names, ages)\n",
    "print(list(zipped))"
   ]
  },
  {
   "cell_type": "code",
   "execution_count": 34,
   "id": "3020d0d3-8e9a-417b-a5df-34177b8f2601",
   "metadata": {},
   "outputs": [
    {
     "name": "stdout",
     "output_type": "stream",
     "text": [
      "[('Alice', 85), ('Bob', 92)]\n"
     ]
    }
   ],
   "source": [
    "scores = [85, 92]\n",
    "truncated = list(zip(names, scores))\n",
    "print(truncated)"
   ]
  },
  {
   "cell_type": "code",
   "execution_count": 36,
   "id": "685fbd50-94f1-4c4e-8115-a5f37297b8d3",
   "metadata": {},
   "outputs": [
    {
     "name": "stdout",
     "output_type": "stream",
     "text": [
      "[('Alice', 25, 'HR'), ('Bob', 30, 'Engineering'), ('Charlie', 28, 'Marketing')]\n"
     ]
    }
   ],
   "source": [
    "departments = [\"HR\", \"Engineering\", \"Marketing\"]\n",
    "combined = list(zip(names, ages, departments))\n",
    "print(combined)"
   ]
  },
  {
   "cell_type": "code",
   "execution_count": 37,
   "id": "262f322b-5de0-435b-b6b4-6d3dde5371c9",
   "metadata": {},
   "outputs": [
    {
     "name": "stdout",
     "output_type": "stream",
     "text": [
      "{'name': 'Alice', 'age': 30, 'job': 'Engineer'}\n"
     ]
    }
   ],
   "source": [
    "keys = [\"name\", \"age\", \"job\"]\n",
    "values = [\"Alice\", 30, \"Engineer\"]\n",
    "\n",
    "profile = dict(zip(keys, values))\n",
    "print(profile)"
   ]
  },
  {
   "cell_type": "code",
   "execution_count": null,
   "id": "9c33aed2-65c0-42a8-8c98-596f6cdc9430",
   "metadata": {},
   "outputs": [],
   "source": []
  }
 ],
 "metadata": {
  "kernelspec": {
   "display_name": "Python 3 (ipykernel)",
   "language": "python",
   "name": "python3"
  },
  "language_info": {
   "codemirror_mode": {
    "name": "ipython",
    "version": 3
   },
   "file_extension": ".py",
   "mimetype": "text/x-python",
   "name": "python",
   "nbconvert_exporter": "python",
   "pygments_lexer": "ipython3",
   "version": "3.12.3"
  }
 },
 "nbformat": 4,
 "nbformat_minor": 5
}
