{
 "cells": [
  {
   "cell_type": "markdown",
   "id": "8dc6ed96-a04b-4ad5-8b0d-c63d05ba9a1b",
   "metadata": {},
   "source": [
    "# Data Types"
   ]
  },
  {
   "cell_type": "markdown",
   "id": "fc29e46a-5a93-4094-ad33-1a4fb64b8091",
   "metadata": {},
   "source": [
    "## Integer (int)"
   ]
  },
  {
   "cell_type": "markdown",
   "id": "277a282c-df5f-4848-a75d-8e1c381886fb",
   "metadata": {},
   "source": [
    "- Represents whole numbers (positive, negative, or zero).\n",
    "- Unlimited precision (no maximum/minimum value).\n",
    "- Supports binary (0b), octal (0o), and hexadecimal (0x) literals.\n",
    "- Common operations: +, -, *, /, // (floor division), ** (exponent)."
   ]
  },
  {
   "cell_type": "code",
   "execution_count": 1,
   "id": "13fffb91-c6fc-4a20-93de-8996f66d05d2",
   "metadata": {},
   "outputs": [
    {
     "name": "stdout",
     "output_type": "stream",
     "text": [
      "297\n"
     ]
    }
   ],
   "source": [
    "decimal_num = 42\n",
    "binary_num = 0b1010  \n",
    "hex_num = 0xFF         \n",
    "sum = decimal_num + hex_num\n",
    "print(sum)"
   ]
  },
  {
   "cell_type": "markdown",
   "id": "fb8ce5f9-c930-4d9d-a7e1-e7ffee540eee",
   "metadata": {},
   "source": [
    "## Float (float)"
   ]
  },
  {
   "cell_type": "markdown",
   "id": "66c97658-8c22-4f9d-8a80-3c4b8dbe7e76",
   "metadata": {},
   "source": [
    "- Represents real numbers with decimal points.\n",
    "- Stored as double-precision (64-bit) floating points.\n",
    "- Can use scientific notation (e.g., 2.5e3 = 2500.0).\n",
    "- Precision limitations: 0.1 + 0.2 ≠ 0.3 (due to binary fractions)."
   ]
  },
  {
   "cell_type": "code",
   "execution_count": 2,
   "id": "6a89b3ee-eddb-4ef9-afdb-3b3f4f517db9",
   "metadata": {},
   "outputs": [
    {
     "name": "stdout",
     "output_type": "stream",
     "text": [
      "0.30000000000000004\n"
     ]
    }
   ],
   "source": [
    "gravity = 9.81\n",
    "scientific = 6.022e23   \n",
    "result = 0.1 + 0.2\n",
    "print(result)"
   ]
  },
  {
   "cell_type": "markdown",
   "id": "0988de65-5cc2-4738-a4fc-e92d9911235b",
   "metadata": {},
   "source": [
    "## String (str)"
   ]
  },
  {
   "cell_type": "markdown",
   "id": "e5d51041-5db6-437a-a99e-cd2585ce7a9b",
   "metadata": {},
   "source": [
    "- Immutable sequence of Unicode characters.\n",
    "- Enclosed in single (' '), double (\" \"), or triple (''' '''/\"\"\" \"\"\") quotes.\n",
    "- Supports escape characters (\\n, \\t, \\\\, etc.).\n",
    "- Common operations: slicing, concatenation, formatting."
   ]
  },
  {
   "cell_type": "code",
   "execution_count": 4,
   "id": "3564196e-6e33-492e-ab3d-1093ee3049b7",
   "metadata": {},
   "outputs": [
    {
     "name": "stdout",
     "output_type": "stream",
     "text": [
      "PYTHON IS \"AWESOME\"!\n",
      "\n",
      "['Line 1', 'Line 2']\n"
     ]
    }
   ],
   "source": [
    "message = 'Python is \"awesome\"!\\n'\n",
    "multiline = '''Line 1\n",
    "Line 2'''\n",
    "print(message.upper())       \n",
    "print(multiline.splitlines())"
   ]
  },
  {
   "cell_type": "markdown",
   "id": "0b77c7ea-9cb7-4e48-a880-a311defb7763",
   "metadata": {},
   "source": [
    "## Boolean (bool)"
   ]
  },
  {
   "cell_type": "markdown",
   "id": "c98ad906-3c42-4893-8711-c1c0cb92320d",
   "metadata": {},
   "source": [
    "- Logical values: True or False (must be capitalized).\n",
    "- Subclass of int (True = 1, False = 0).\n",
    "- Truthy/falsy values: Non-zero = True, 0/empty = False."
   ]
  },
  {
   "cell_type": "code",
   "execution_count": 6,
   "id": "97e1c8b6-0116-450f-9d79-d0ebeac9cdc6",
   "metadata": {},
   "outputs": [
    {
     "name": "stdout",
     "output_type": "stream",
     "text": [
      "True\n"
     ]
    }
   ],
   "source": [
    "is_valid = True\n",
    "empty_list = []\n",
    "print(is_valid)"
   ]
  },
  {
   "cell_type": "markdown",
   "id": "85a042dd-f062-49cc-b082-804be222b702",
   "metadata": {},
   "source": [
    "## List"
   ]
  },
  {
   "cell_type": "markdown",
   "id": "ff855a6d-5f1e-4333-8159-f33fdfc07b4d",
   "metadata": {},
   "source": [
    "1. **What is a List?**  \n",
    "   - Ordered, mutable (changeable) collection of elements.  \n",
    "   - Allows duplicates and mixed data types.  \n",
    "   - Created with square brackets `[]` or the `list()` constructor.  \n",
    "\n",
    "2. **Key Properties**  \n",
    "   - Indexed (access items by position, starting at 0).  \n",
    "   - Dynamically resized (no fixed length).  \n",
    "   - Supports nesting (lists of lists).  \n"
   ]
  },
  {
   "cell_type": "code",
   "execution_count": 11,
   "id": "f5fa21ad-2ad9-4637-80d0-fa32f14aff94",
   "metadata": {},
   "outputs": [
    {
     "name": "stdout",
     "output_type": "stream",
     "text": [
      "apple\n",
      "cherry\n",
      "['banana', 'cherry']\n",
      "['apple', 'cherry']\n",
      "1\n",
      "1\n"
     ]
    }
   ],
   "source": [
    "# 1. Creating Lists  \n",
    "numbers = [1, 2, 3, 4]  \n",
    "mixed = [10, \"apple\", True, [5, 6]]  # Mixed data types  \n",
    "empty = list()  \n",
    "\n",
    "# 2. Adding Elements  \n",
    "numbers.append(5)                    # Add to end → [1, 2, 3, 4, 5]  \n",
    "numbers.insert(1, 99)               # Insert at index 1 → [1, 99, 2, 3, 4, 5]  \n",
    "numbers.extend([6, 7])               # Add multiple items → [1, 99, 2, 3, 4, 5, 6, 7]  \n",
    "\n",
    "# 3. Removing Elements  \n",
    "numbers.remove(99)                   # Remove by value → [1, 2, 3, 4, 5, 6, 7]  \n",
    "popped = numbers.pop(2)              # Remove by index (returns 3) → [1, 2, 4, 5, 6, 7]  \n",
    "numbers.clear()                      # Empty the list → []  \n",
    "\n",
    "# 4. Accessing Elements  \n",
    "fruits = [\"apple\", \"banana\", \"cherry\"]  \n",
    "print(fruits[0])                     # Output: \"apple\"  \n",
    "print(fruits[-1])                    # Output: \"cherry\" (last item)  \n",
    "\n",
    "# 5. Slicing  \n",
    "print(fruits[1:3])                   # Output: [\"banana\", \"cherry\"]  \n",
    "print(fruits[::2])                   # Output: [\"apple\", \"cherry\"] (every 2nd item)  \n",
    "\n",
    "# 6. List Methods  \n",
    "fruits.reverse()                     # Reverse in-place → [\"cherry\", \"banana\", \"apple\"]  \n",
    "fruits.sort()                        # Sort alphabetically → [\"apple\", \"banana\", \"cherry\"]  \n",
    "print(fruits.index(\"banana\"))        # Output: 1  \n",
    "print(fruits.count(\"apple\"))         # Output: 1  \n",
    "\n",
    "# 7. List Comprehensions \n",
    "squares = [x**2 for x in range(5)]  # [0, 1, 4, 9, 16]  \n",
    "evens = [x for x in range(10) if x % 2 == 0]  # [0, 2, 4, 6, 8]  \n",
    "\n",
    "words = [\"hello\", \"world\"]\n",
    "upper_words = [word.upper() for word in words]\n",
    "\n",
    "values = [5, -2, 10, -8]\n",
    "non_negative = [x if x >= 0 else 0 for x in values]\n",
    "\n",
    "numbers = [12, 3, 25, 7]\n",
    "categories = [\"Even\" if x % 2 == 0 else \"Odd\" for x in numbers]\n",
    "\n",
    "# 8. Copying Lists  \n",
    "original = [1, 2, 3]  \n",
    "shallow_copy = original.copy()       # OR original[:]  \n",
    "shallow_copy[0] = 99                # Original remains [1, 2, 3]  "
   ]
  },
  {
   "cell_type": "markdown",
   "id": "638c2ba6-bca3-4a3e-b6f3-b19fae64ae0c",
   "metadata": {},
   "source": [
    "1. **When to Use Lists**:  \n",
    "   - Storing ordered collections that may change (e.g., user inputs, dynamic data).  \n",
    "   - When you need fast index-based access.  \n",
    "\n",
    "2. **Performance**:  \n",
    "   - Appending (`append()`): O(1) time.  \n",
    "   - Inserting (`insert()`): O(n) time (slower for large lists).  \n",
    "   - Searching (`x in list`): O(n) time (use sets for faster checks).  \n",
    "\n",
    "3. **Common Pitfalls**:  \n",
    "   - Modifying a list while iterating over it → Unexpected behavior.  \n",
    "   - Shallow vs deep copies (use `copy.deepcopy()` for nested lists).  "
   ]
  },
  {
   "cell_type": "code",
   "execution_count": 7,
   "id": "83293ca3-d707-4a99-9a9b-0d2ecb8fb86d",
   "metadata": {},
   "outputs": [
    {
     "name": "stdout",
     "output_type": "stream",
     "text": [
      "apple\n",
      "orange\n",
      "['mango', 'orange']\n"
     ]
    }
   ],
   "source": [
    "fruits = [\"apple\", \"banana\", \"cherry\"]\n",
    "\n",
    "# Add items\n",
    "fruits.append(\"orange\")       \n",
    "fruits.insert(1, \"mango\")     \n",
    "\n",
    "# Remove items\n",
    "fruits.remove(\"banana\")       \n",
    "popped = fruits.pop(2)          \n",
    "\n",
    "# Access items\n",
    "print(fruits[0])               \n",
    "print(fruits[-1])               \n",
    "\n",
    "# Slice a list\n",
    "print(fruits[1:3])             "
   ]
  },
  {
   "cell_type": "markdown",
   "id": "f1e6bf48-bd36-452e-882e-d161b8f2b512",
   "metadata": {},
   "source": [
    "## Tuple "
   ]
  },
  {
   "cell_type": "markdown",
   "id": "b4deee33-105e-4180-bf50-38dd93332245",
   "metadata": {},
   "source": [
    "- Ordered, immutable (unchangeable) collection.\n",
    "- Allows duplicates.\n",
    "- Created with parentheses ().\n"
   ]
  },
  {
   "cell_type": "code",
   "execution_count": 9,
   "id": "be74b846-8eb3-4032-8ab2-0d65295ab4ec",
   "metadata": {},
   "outputs": [
    {
     "name": "stdout",
     "output_type": "stream",
     "text": [
      "1920\n",
      "1080\n"
     ]
    }
   ],
   "source": [
    "# Create a tuple\n",
    "dimensions = (1920, 1080)\n",
    "\n",
    "# Access items\n",
    "print(dimensions[0])           \n",
    "\n",
    "# Try to modify (will fail)\n",
    "# dimensions[0] = 2560          \n",
    "\n",
    "# Tuple unpacking\n",
    "width, height = dimensions\n",
    "print(height)                   "
   ]
  },
  {
   "cell_type": "markdown",
   "id": "62c38b35-6e29-4113-8b9a-c502b01a35e8",
   "metadata": {},
   "source": [
    "## Set"
   ]
  },
  {
   "cell_type": "markdown",
   "id": "8ccfe186-1ec1-49ec-8604-f8c8fd8fd555",
   "metadata": {},
   "source": [
    "1. **What is a Set?**  \n",
    "   - Unordered collection of **unique** elements.  \n",
    "   - Mutable: Items can be added/removed.  \n",
    "   - Elements must be **hashable** (immutable types like `int`, `str`, `tuple`).  \n",
    "\n",
    "2. **Key Properties**  \n",
    "   - No duplicate values (auto-deduplication).  \n",
    "   - Unordered: No indexing (can’t access items by position).  \n",
    "   - Optimized for membership checks (`x in set` is very fast).  "
   ]
  },
  {
   "cell_type": "code",
   "execution_count": 10,
   "id": "795c7085-4777-4dbd-9bba-f932c0cde29f",
   "metadata": {},
   "outputs": [
    {
     "name": "stdout",
     "output_type": "stream",
     "text": [
      "{1, 2, 3, 4, 5}\n",
      "{3}\n",
      "{1, 2}\n",
      "{1, 2, 4, 5}\n",
      "True\n"
     ]
    }
   ],
   "source": [
    "# 1. Creating Sets  \n",
    "fruits = {\"apple\", \"banana\", \"cherry\"}  \n",
    "empty_set = set()                    \n",
    "numbers = set([1, 2, 2, 3])         \n",
    "\n",
    "# 2. Adding/Removing Elements  \n",
    "fruits.add(\"orange\")                \n",
    "fruits.update([\"mango\", \"kiwi\"])     \n",
    "fruits.remove(\"banana\")              # Raises KeyError if missing  \n",
    "fruits.discard(\"banana\")             # No error if missing  \n",
    "popped = fruits.pop()                # Removes random item  \n",
    "\n",
    "# 3. Set Operations  \n",
    "A = {1, 2, 3}  \n",
    "B = {3, 4, 5}  \n",
    "\n",
    "# Union (A | B)  \n",
    "print(A | B)                         # {1, 2, 3, 4, 5}  \n",
    "\n",
    "# Intersection (A & B)  \n",
    "print(A & B)                         # {3}  \n",
    "\n",
    "# Difference (A - B)  \n",
    "print(A - B)                         # {1, 2}  \n",
    "\n",
    "# Symmetric Difference (A ^ B)  \n",
    "print(A ^ B)                         # {1, 2, 4, 5}  \n",
    "\n",
    "# 4. Membership Testing  \n",
    "print(2 in A)                        # True (faster than lists!)  \n",
    "\n",
    "# 5. Frozenset (Immutable Set)  \n",
    "immutable_set = frozenset([1, 2, 3])  \n",
    "# immutable_set.add(4) → Error!  "
   ]
  },
  {
   "cell_type": "markdown",
   "id": "f61235b5-c2ac-468c-93d8-7d00f337fbe7",
   "metadata": {},
   "source": [
    "1. **When to Use Sets**:  \n",
    "   - Remove duplicates from a list → `unique = list(set(duplicates))`  \n",
    "   - Fast membership checks (e.g., banned users, valid keywords).  \n",
    "\n",
    "2. **Pitfalls**:  \n",
    "   - Can’t store unhashable types (e.g., lists, dicts).  \n",
    "   - Order is not preserved; don’t rely on insertion sequence.  \n",
    "\n",
    "3. **Performance**:  \n",
    "   - `x in set` → O(1) time (constant time).  \n",
    "   - `x in list` → O(n) time (slower for large lists).  \n"
   ]
  },
  {
   "cell_type": "markdown",
   "id": "db645bf4-f9db-42ff-8c01-6f2dbfe990b5",
   "metadata": {},
   "source": [
    "## Dictionary"
   ]
  },
  {
   "cell_type": "markdown",
   "id": "4081694b-4766-4433-9f32-e71d3ab4a728",
   "metadata": {},
   "source": [
    "1. **What is a Dictionary?**  \n",
    "   - Unordered collection of **key-value pairs**.  \n",
    "   - Mutable: Keys/values can be added, modified, or removed.  \n",
    "   - Keys must be **hashable** (immutable: `int`, `str`, `tuple`).  \n",
    "   - Values can be any Python object.  \n",
    "\n",
    "2. **Key Properties**  \n",
    "   - Optimized for O(1) average-time lookups (hash table implementation).  \n",
    "   - No duplicate keys (new values overwrite old ones).  \n",
    "   - Ordered in Python 3.7+ (insertion order preserved).  \n"
   ]
  },
  {
   "cell_type": "code",
   "execution_count": 13,
   "id": "de4de8a5-708e-48ee-9127-11e698afa352",
   "metadata": {},
   "outputs": [
    {
     "name": "stdout",
     "output_type": "stream",
     "text": [
      "Alice\n",
      "N/A\n",
      "manager\n"
     ]
    }
   ],
   "source": [
    "# 1. Creating Dictionaries  \n",
    "user = {\"name\": \"Alice\", \"age\": 30, \"is_admin\": True}  \n",
    "empty_dict = {}  \n",
    "alternate = dict(name=\"Bob\", age=25)  # Keyword argument syntax  \n",
    "\n",
    "# 2. Accessing Values  \n",
    "print(user[\"name\"])                   # Output: \"Alice\"  \n",
    "print(user.get(\"email\", \"N/A\"))       # Output: \"N/A\" (safe method)  \n",
    "\n",
    "# 3. Adding/Updating Items  \n",
    "user[\"email\"] = \"alice@example.com\"   # Add new key  \n",
    "user[\"age\"] = 31                      # Update existing key  \n",
    "user.update({\"city\": \"Paris\", \"age\": 32})  # Merge multiple updates  \n",
    "\n",
    "# 4. Removing Items  \n",
    "del user[\"is_admin\"]                  # Remove key  \n",
    "popped_value = user.pop(\"age\")        # Remove and return value (32)  \n",
    "user.clear()                          # Empty the dictionary  \n",
    "\n",
    "# 5. Looping Techniques  \n",
    "for key in user:                      # Loop keys  \n",
    "    print(key)  \n",
    "\n",
    "for value in user.values():           # Loop values  \n",
    "    print(value)  \n",
    "\n",
    "for key, value in user.items():       # Loop key-value pairs  \n",
    "    print(f\"{key}: {value}\")  \n",
    "\n",
    "# 6. Dictionary Methods  \n",
    "keys = user.keys()                    # dict_keys([\"name\", \"email\", \"city\"])  \n",
    "values = user.values()                # dict_values([\"Alice\", \"alice@...\", \"Paris\"])  \n",
    "items = user.items()                  # dict_items([(\"name\", \"Alice\"), ...])  \n",
    "\n",
    "# 7. Dictionary Comprehensions  \n",
    "squares = {x: x**2 for x in range(5)}  \n",
    "# {0:0, 1:1, 2:4, 3:9, 4:16}  \n",
    "\n",
    "# 8. Nested Dictionaries  \n",
    "employees = {  \n",
    "    \"alice\": {\"age\": 30, \"role\": \"dev\"},  \n",
    "    \"bob\": {\"age\": 25, \"role\": \"manager\"}  \n",
    "}  \n",
    "print(employees[\"bob\"][\"role\"])       # Output: \"manager\"  \n",
    "\n",
    "# 9. Merging Dictionaries (Python 3.9+)  \n",
    "dict1 = {\"a\": 1, \"b\": 2}  \n",
    "dict2 = {\"b\": 3, \"c\": 4}  \n",
    "merged = dict1 | dict2                # {\"a\":1, \"b\":3, \"c\":4}  \n",
    "\n"
   ]
  },
  {
   "cell_type": "markdown",
   "id": "2253b814-f041-4244-a991-053ec97eb632",
   "metadata": {},
   "source": [
    "1. **When to Use Dictionaries**:  \n",
    "   - Storing labeled data (e.g., JSON-like structures).  \n",
    "   - Fast lookups by unique keys.  \n",
    "   - Counting occurrences (using `defaultdict` or `Counter`).  \n",
    "\n",
    "2. **Performance**:  \n",
    "   - Key lookups: O(1) average time.  \n",
    "   - Memory overhead: Higher than lists/tuples (storing keys and pointers).  \n",
    "\n",
    "3. **Common Pitfalls**:  \n",
    "   - Modifying a dict while iterating → RuntimeError.  \n",
    "   - Using mutable objects as keys → TypeError.  \n",
    "   - Assuming order in Python <3.7 (use `collections.OrderedDict`).  \n",
    "\n",
    "4. **Advanced Features**:  \n",
    "   - Dictionary views (`keys()`, `values()`, `items()`) dynamically reflect changes.  \n",
    "   - `__missing__` method for custom missing-key handling."
   ]
  },
  {
   "cell_type": "markdown",
   "id": "284aecc3-26ed-428f-a5c8-20360c8d810f",
   "metadata": {},
   "source": [
    "\n",
    "1. **JSON Data Handling**:\n",
    "   ```python\n",
    "   import json  \n",
    "   data = '{\"name\": \"Alice\", \"age\": 30}'  \n",
    "   user_dict = json.loads(data)       # Convert JSON to dict  \n",
    "   ```\n",
    "3. **Configuration Settings**:  \n",
    "    ```python\n",
    "   config = {  \n",
    "       \"debug_mode\": False,  \n",
    "       \"max_connections\": 100,  \n",
    "       \"allowed_ports\": [80, 443]  \n",
    "   }\n",
    "```\n"
   ]
  },
  {
   "cell_type": "code",
   "execution_count": null,
   "id": "0c34d872-07cf-40f2-ad2e-a5bac2970959",
   "metadata": {},
   "outputs": [],
   "source": []
  }
 ],
 "metadata": {
  "kernelspec": {
   "display_name": "Python 3 (ipykernel)",
   "language": "python",
   "name": "python3"
  },
  "language_info": {
   "codemirror_mode": {
    "name": "ipython",
    "version": 3
   },
   "file_extension": ".py",
   "mimetype": "text/x-python",
   "name": "python",
   "nbconvert_exporter": "python",
   "pygments_lexer": "ipython3",
   "version": "3.12.3"
  }
 },
 "nbformat": 4,
 "nbformat_minor": 5
}
