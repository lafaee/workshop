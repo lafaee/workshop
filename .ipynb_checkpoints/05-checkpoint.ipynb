{
 "cells": [
  {
   "cell_type": "markdown",
   "id": "fc8841e2-dffd-4369-b7f1-019c219be385",
   "metadata": {},
   "source": [
    "# Object Oriented Programming"
   ]
  },
  {
   "cell_type": "markdown",
   "id": "af611a7b-35b0-40b6-b0d6-c0751a529846",
   "metadata": {},
   "source": [
    "## Class "
   ]
  },
  {
   "cell_type": "markdown",
   "id": "fd234194-c969-41b0-8d4d-85838e80656f",
   "metadata": {},
   "source": [
    "- Class: A user-defined blueprint for creating objects\n",
    "- Object: A unique instance of a class with:\n",
    "  - State (attributes)\n",
    "  - Behavior (methods)\n",
    "- self: Reference to the current instance (like \"this\" in other languages)\n"
   ]
  },
  {
   "cell_type": "markdown",
   "id": "ea84b8ba-e225-4271-9da4-44402422a035",
   "metadata": {},
   "source": [
    " ```__init__``` METHOD (CONSTRUCTOR)\n",
    "\n",
    "- Use\n",
    "    - Automatically called when object is created\n",
    "    - Sets up initial object state"
   ]
  },
  {
   "cell_type": "code",
   "execution_count": 2,
   "id": "fb30ed12-1214-433d-b396-212f40632d19",
   "metadata": {},
   "outputs": [],
   "source": [
    "class Dog:\n",
    "    def __init__(self, name, age):\n",
    "        # Initialize attributes\n",
    "        self.name = name  \n",
    "        self.age = age\n",
    "        self.tricks = []  # Empty list for all dogs\n",
    "\n",
    "# Create instance\n",
    "my_dog = Dog(\"Buddy\", 3)"
   ]
  },
  {
   "cell_type": "code",
   "execution_count": 3,
   "id": "a03ee132-f93e-4e38-b1d1-dc7c54e69d5e",
   "metadata": {},
   "outputs": [
    {
     "name": "stdout",
     "output_type": "stream",
     "text": [
      "Rex says woof!\n"
     ]
    }
   ],
   "source": [
    "class Dog:\n",
    "    def __init__(self, name):\n",
    "        self.name = name\n",
    "    \n",
    "    def bark(self):  # self is mandatory first param\n",
    "        print(f\"{self.name} says woof!\")\n",
    "\n",
    "# Usage\n",
    "dog = Dog(\"Rex\")\n",
    "dog.bark()"
   ]
  },
  {
   "cell_type": "code",
   "execution_count": 4,
   "id": "e6598e40-f837-429a-8aa8-f731b3822031",
   "metadata": {},
   "outputs": [
    {
     "name": "stdout",
     "output_type": "stream",
     "text": [
      "Canis familiaris\n",
      "Fido\n"
     ]
    }
   ],
   "source": [
    "# Class Attribute vs Instance Attribute\n",
    "class Dog:\n",
    "    # Class attribute (shared by all dogs)\n",
    "    species = \"Canis familiaris\"\n",
    "    \n",
    "    def __init__(self, name):\n",
    "        # Instance attribute (unique per dog)\n",
    "        self.name = name\n",
    "\n",
    "# Accessing each type\n",
    "print(Dog.species)  # Class attribute\n",
    "my_dog = Dog(\"Fido\")\n",
    "print(my_dog.name)  # Instance attribute"
   ]
  },
  {
   "cell_type": "markdown",
   "id": "f17a6f46-dddd-402b-82c1-9acd00d429fe",
   "metadata": {},
   "source": [
    "### Class Methods"
   ]
  },
  {
   "cell_type": "markdown",
   "id": "538f7d51-0d51-4c47-8f20-6c9592c422f2",
   "metadata": {},
   "source": [
    "1) REGULAR METHOD (DEFAULT)\n",
    "\n",
    "- Needs 'self' as first parameter\n",
    "- Can access/modify object data\n",
    "- Called on objects"
   ]
  },
  {
   "cell_type": "code",
   "execution_count": 6,
   "id": "cda689c4-105d-4d34-a4c6-36fe5aca11b6",
   "metadata": {},
   "outputs": [
    {
     "name": "stdout",
     "output_type": "stream",
     "text": [
      "Buddy says woof!\n"
     ]
    }
   ],
   "source": [
    "class Dog:\n",
    "    def __init__(self, name):\n",
    "        self.name = name\n",
    "    \n",
    "    # Regular method (default)\n",
    "    def bark(self):\n",
    "        print(f\"{self.name} says woof!\")\n",
    "\n",
    "my_dog = Dog(\"Buddy\")\n",
    "my_dog.bark()  # Buddy says woof!\n"
   ]
  },
  {
   "cell_type": "markdown",
   "id": "7ac09e11-1ebd-4c36-8a52-503bd2515eeb",
   "metadata": {},
   "source": [
    "2. @classmethod (NOT DEFAULT)\n",
    "\n",
    "- Needs 'cls' as first parameter\n",
    "- Can change class-wide settings\n",
    "- Called on class or object\n",
    "- Used for creating objects in special ways"
   ]
  },
  {
   "cell_type": "code",
   "execution_count": 7,
   "id": "511dc883-23c0-4dc2-bf9e-2cb77bd9cbc4",
   "metadata": {},
   "outputs": [
    {
     "name": "stdout",
     "output_type": "stream",
     "text": [
      "Wolf\n"
     ]
    }
   ],
   "source": [
    "class Dog:\n",
    "    species = \"Canine\"  # Class variable\n",
    "    \n",
    "    @classmethod\n",
    "    def change_species(cls, new_species):\n",
    "        cls.species = new_species  # Affects ALL dogs\n",
    "\n",
    "# Call on class\n",
    "Dog.change_species(\"Wolf\")\n",
    "print(Dog.species)  # Wolf"
   ]
  },
  {
   "cell_type": "markdown",
   "id": "989e656f-43ac-4ad5-8cd1-4eb138c104ce",
   "metadata": {},
   "source": [
    "3. @staticmethod (NOT DEFAULT)\n",
    "\n",
    "- No special first parameter\n",
    "- Can't change object/class data\n",
    "- Just a function inside a class\n",
    "- Used for organization\n"
   ]
  },
  {
   "cell_type": "code",
   "execution_count": 8,
   "id": "668c057b-56a2-4868-9dce-9d39a524a485",
   "metadata": {},
   "outputs": [
    {
     "name": "stdout",
     "output_type": "stream",
     "text": [
      "21\n"
     ]
    }
   ],
   "source": [
    "class Dog:\n",
    "    @staticmethod\n",
    "    def dog_years(human_years):\n",
    "        return human_years * 7  # Just a calculation\n",
    "\n",
    "# Call without making object\n",
    "print(Dog.dog_years(3))  # 21"
   ]
  },
  {
   "cell_type": "markdown",
   "id": "072930fe-87a0-456e-896e-1c57719d83fd",
   "metadata": {},
   "source": [
    "1. WHAT IS A DECORATOR?\n",
    "-----------------------------------------------\n",
    "A decorator is a function that:\n",
    "1. Takes another function as input\n",
    "2. Returns a modified version of that function\n",
    "3. Uses the @ symbol for easy application"
   ]
  },
  {
   "cell_type": "code",
   "execution_count": 10,
   "id": "e81947d1-b8f0-4470-a1e7-3270b38bc1fd",
   "metadata": {},
   "outputs": [
    {
     "name": "stdout",
     "output_type": "stream",
     "text": [
      "Before function\n",
      "Hello!\n",
      "After function\n"
     ]
    }
   ],
   "source": [
    "def my_decorator(func):          # 1. Accepts a function\n",
    "    def wrapper():               # 2. Creates inner function\n",
    "        print(\"Before function\") # 3. Added behavior\n",
    "        func()                   # 4. Calls original function\n",
    "        print(\"After function\")  # 5. More added behavior\n",
    "    return wrapper               # 6. Returns new function\n",
    "\n",
    "@my_decorator                    # 7. Apply decorator\n",
    "def say_hello():\n",
    "    print(\"Hello!\")\n",
    "\n",
    "say_hello()"
   ]
  },
  {
   "cell_type": "markdown",
   "id": "09265f39-b4e1-4265-be93-263e06ac8a5b",
   "metadata": {},
   "source": [
    "3. HOW IT WORKS STEP-BY-STEP\n",
    "-----------------------------------------------\n",
    "1. Python sees @my_decorator\n",
    "2. It does this: say_hello = my_decorator(say_hello)\n",
    "3. Now say_hello points to wrapper()\n",
    "4. Calling say_hello() runs wrapper()"
   ]
  },
  {
   "cell_type": "code",
   "execution_count": 15,
   "id": "1ca53e99-69d1-4817-a11d-6cb092cfeb63",
   "metadata": {},
   "outputs": [
    {
     "name": "stdout",
     "output_type": "stream",
     "text": [
      "Running greet\n",
      "Hello, kedar\n"
     ]
    }
   ],
   "source": [
    "def decorator_with_args(func):\n",
    "    def wrapper(*args, **kwargs):  # Accepts any arguments\n",
    "        print(f\"Running {func.__name__}\")\n",
    "        return func(*args, **kwargs)  # Passes arguments through\n",
    "    return wrapper\n",
    "\n",
    "@decorator_with_args\n",
    "def greet(name):\n",
    "    print(f\"Hello, {name}\")\n",
    "\n",
    "greet(\"kedar\")"
   ]
  },
  {
   "cell_type": "markdown",
   "id": "6b2ff4a7-9c6d-4bec-97ec-1cbbcc11f8a3",
   "metadata": {},
   "source": [
    "### Application of decorator - time function\n"
   ]
  },
  {
   "cell_type": "code",
   "execution_count": 17,
   "id": "a7c61264-a1e2-422c-8468-6af34f2386dd",
   "metadata": {},
   "outputs": [
    {
     "name": "stdout",
     "output_type": "stream",
     "text": [
      "slow_calculation took 0.1501s\n"
     ]
    },
    {
     "data": {
      "text/plain": [
       "499999500000"
      ]
     },
     "execution_count": 17,
     "metadata": {},
     "output_type": "execute_result"
    }
   ],
   "source": [
    "import time\n",
    "\n",
    "def timer(func):\n",
    "    def wrapper(*args, **kwargs):\n",
    "        start = time.time()\n",
    "        result = func(*args, **kwargs)\n",
    "        end = time.time()\n",
    "        print(f\"{func.__name__} took {end-start:.4f}s\")\n",
    "        return result\n",
    "    return wrapper\n",
    "\n",
    "@timer\n",
    "def slow_calculation(n):\n",
    "    total = 0\n",
    "    for i in range(n):\n",
    "        total += i\n",
    "    return total\n",
    "slow_calculation(1000000)"
   ]
  },
  {
   "cell_type": "markdown",
   "id": "97009b9c-86ee-4163-a0e0-5476b25d214a",
   "metadata": {},
   "source": [
    "## Encapsulation"
   ]
  },
  {
   "cell_type": "markdown",
   "id": "36d965a9-3bfe-4d39-922d-91d0acfdc634",
   "metadata": {},
   "source": [
    "• Bundling data + methods that operate on that data\n",
    "\n",
    "• Restricting direct access to internal state\n",
    "\n",
    "• Exposing controlled interfaces"
   ]
  },
  {
   "cell_type": "markdown",
   "id": "e9f02b96-2032-46c0-8d88-07117b836d08",
   "metadata": {},
   "source": [
    "| Convention     | Example     | Meaning                     |\n",
    "|----------------|-------------|-----------------------------|\n",
    "| Public         | `var`       | Accessible anywhere         |\n",
    "| Protected      | `_var`      | \"Private\" (convention only) |\n",
    "| Private        | `__var`     | Name-mangled (real privacy) |"
   ]
  },
  {
   "cell_type": "code",
   "execution_count": 19,
   "id": "bca2b4e9-3555-4bc1-9513-6a446a0efb42",
   "metadata": {},
   "outputs": [
    {
     "name": "stdout",
     "output_type": "stream",
     "text": [
      "100\n"
     ]
    }
   ],
   "source": [
    "class BankAccount:\n",
    "    def __init__(self):\n",
    "        self.__balance = 0  # Private\n",
    "        self._transaction_count = 0  # Protected\n",
    "    \n",
    "    def deposit(self, amount):\n",
    "        if amount > 0:\n",
    "            self.__balance += amount\n",
    "            self._transaction_count += 1\n",
    "    \n",
    "    def get_balance(self):\n",
    "        return self.__balance\n",
    "\n",
    "account = BankAccount()\n",
    "account.deposit(100)\n",
    "# account.__balance  # Error (name-mangled to _BankAccount__balance)\n",
    "print(account.get_balance())  # Proper access\n"
   ]
  },
  {
   "cell_type": "markdown",
   "id": "4f948e02-06c4-4788-8eca-c3f39456209a",
   "metadata": {},
   "source": [
    "#### Using `@property` decorator"
   ]
  },
  {
   "cell_type": "code",
   "execution_count": 20,
   "id": "d2d74237-d730-4914-be31-ffcf9802f936",
   "metadata": {},
   "outputs": [
    {
     "name": "stdout",
     "output_type": "stream",
     "text": [
      "77.0\n"
     ]
    }
   ],
   "source": [
    "class Temperature:\n",
    "    def __init__(self):\n",
    "        self.__celsius = 0\n",
    "    \n",
    "    @property\n",
    "    def celsius(self):  # Getter\n",
    "        return self.__celsius\n",
    "    \n",
    "    @celsius.setter\n",
    "    def celsius(self, value):\n",
    "        if -273.15 <= value <= 1000:\n",
    "            self.__celsius = value\n",
    "        else:\n",
    "            raise ValueError(\"Invalid temperature\")\n",
    "    \n",
    "    @property\n",
    "    def fahrenheit(self):\n",
    "        return (self.__celsius * 9/5) + 32\n",
    "\n",
    "temp = Temperature()\n",
    "temp.celsius = 25  # Uses setter\n",
    "print(temp.fahrenheit)  # 77.0 (computed property)\n",
    "# temp.celsius = -300  # Raises ValueError"
   ]
  },
  {
   "cell_type": "markdown",
   "id": "9511ad10-2881-4962-8480-83de34ed34cb",
   "metadata": {},
   "source": [
    "#### Secure Banking using Encapsulation"
   ]
  },
  {
   "cell_type": "code",
   "execution_count": 21,
   "id": "d17bd618-0b4a-44f4-87a4-b1ecb6d41f14",
   "metadata": {},
   "outputs": [
    {
     "name": "stdout",
     "output_type": "stream",
     "text": [
      "Account Number: 3607456011\n",
      "Holder: John Doe\n",
      "Balance after deposit: $1500.00\n",
      "Withdrew $200.00, New Balance: $1300.00\n",
      "\n",
      "Transaction History:\n",
      "2025-04-21T02:46:35.915817 - DEPOSIT: 1000\n",
      "2025-04-21T02:46:35.916099 - DEPOSIT: 500\n",
      "2025-04-21T02:46:35.916194 - WITHDRAWAL: -200\n",
      "Banking Error: name 'AuthenticationError' is not defined\n"
     ]
    }
   ],
   "source": [
    "class SecureBankingSystem:\n",
    "    \"\"\"\n",
    "    A fully encapsulated banking system with:\n",
    "    - Private attributes\n",
    "    - Property decorators\n",
    "    - Validation methods\n",
    "    - Audit logging\n",
    "    - Transaction security\n",
    "    \"\"\"\n",
    "    \n",
    "    __total_accounts = 0  # Class-level private variable\n",
    "    \n",
    "    def __init__(self, account_holder, initial_deposit, password):\n",
    "        self.__account_number = self.__generate_account_number()\n",
    "        self.__holder_name = account_holder\n",
    "        self.__balance = 0  # Real balance stored privately\n",
    "        self.__password_hash = self.__hash_password(password)\n",
    "        self.__transaction_history = []\n",
    "        self.__locked = False\n",
    "        self.__login_attempts = 0\n",
    "        SecureBankingSystem.__total_accounts += 1\n",
    "        \n",
    "        # Use setter for initial deposit to trigger validation\n",
    "        self.deposit(initial_deposit)\n",
    "        \n",
    "    # ========== PRIVATE METHODS ========== #\n",
    "    def __hash_password(self, password):\n",
    "        \"\"\"Securely hash password using salt\"\"\"\n",
    "        import hashlib\n",
    "        salt = \"bank_salt_2023\"\n",
    "        return hashlib.sha256((password + salt).encode()).hexdigest()\n",
    "    \n",
    "    def __generate_account_number(self):\n",
    "        \"\"\"Generate 10-digit account number\"\"\"\n",
    "        import random\n",
    "        return ''.join(str(random.randint(0, 9)) for _ in range(10))\n",
    "    \n",
    "    def __validate_amount(self, amount):\n",
    "        \"\"\"Internal validation\"\"\"\n",
    "        if not isinstance(amount, (int, float)):\n",
    "            raise ValueError(\"Amount must be numeric\")\n",
    "        if amount <= 0:\n",
    "            raise ValueError(\"Amount must be positive\")\n",
    "    \n",
    "    def __log_transaction(self, transaction_type, amount):\n",
    "        \"\"\"Private audit logging\"\"\"\n",
    "        from datetime import datetime\n",
    "        log_entry = {\n",
    "            'type': transaction_type,\n",
    "            'amount': amount,\n",
    "            'balance': self.__balance,\n",
    "            'time': datetime.now().isoformat()\n",
    "        }\n",
    "        self.__transaction_history.append(log_entry)\n",
    "    \n",
    "    # ========== PUBLIC INTERFACE ========== #\n",
    "    def authenticate(self, password):\n",
    "        \"\"\"Secure login method\"\"\"\n",
    "        if self.__locked:\n",
    "            raise AccountLockedError(\"Account temporarily locked\")\n",
    "            \n",
    "        if self.__hash_password(password) == self.__password_hash:\n",
    "            self.__login_attempts = 0\n",
    "            return True\n",
    "        \n",
    "        self.__login_attempts += 1\n",
    "        if self.__login_attempts >= 3:\n",
    "            self.__locked = True\n",
    "        return False\n",
    "    \n",
    "    def deposit(self, amount):\n",
    "        \"\"\"Controlled deposit method\"\"\"\n",
    "        if self.__locked:\n",
    "            raise AccountLockedError(\"Cannot deposit - account locked\")\n",
    "            \n",
    "        self.__validate_amount(amount)\n",
    "        self.__balance += amount\n",
    "        self.__log_transaction('DEPOSIT', amount)\n",
    "    \n",
    "    def withdraw(self, amount, password):\n",
    "        \"\"\"Secure withdrawal with authentication\"\"\"\n",
    "        if not self.authenticate(password):\n",
    "            raise AuthenticationError(\"Invalid credentials\")\n",
    "            \n",
    "        self.__validate_amount(amount)\n",
    "        if amount > self.__balance:\n",
    "            raise InsufficientFundsError()\n",
    "            \n",
    "        self.__balance -= amount\n",
    "        self.__log_transaction('WITHDRAWAL', -amount)\n",
    "        return amount\n",
    "    \n",
    "    # ========== PROPERTIES ========== #\n",
    "    @property\n",
    "    def account_number(self):\n",
    "        \"\"\"Read-only property\"\"\"\n",
    "        return self.__account_number\n",
    "    \n",
    "    @property\n",
    "    def holder_name(self):\n",
    "        \"\"\"Read-only property\"\"\"\n",
    "        return self.__holder_name.title()\n",
    "    \n",
    "    @property\n",
    "    def balance(self):\n",
    "        \"\"\"Read-only balance with security check\"\"\"\n",
    "        if self.__locked:\n",
    "            raise AccountLockedError(\"Account locked\")\n",
    "        return self.__balance\n",
    "    \n",
    "    @property\n",
    "    def transaction_history(self):\n",
    "        \"\"\"Secured copy of transaction history\"\"\"\n",
    "        return self.__transaction_history.copy()  # Return copy to prevent modification\n",
    "    \n",
    "    @classmethod\n",
    "    def get_total_accounts(cls):\n",
    "        \"\"\"Controlled class-level access\"\"\"\n",
    "        return cls.__total_accounts\n",
    "    \n",
    "    # ========== CUSTOM EXCEPTIONS ========== #\n",
    "    class AuthenticationError(Exception): pass\n",
    "    class InsufficientFundsError(Exception): pass\n",
    "    class AccountLockedError(Exception): pass\n",
    "\n",
    "\n",
    "# ===================== USAGE EXAMPLE ===================== #\n",
    "if __name__ == \"__main__\":\n",
    "    # Create account\n",
    "    try:\n",
    "        my_account = SecureBankingSystem(\"john doe\", 1000, \"s3cr3t!\")\n",
    "        \n",
    "        # Test public interface\n",
    "        print(f\"Account Number: {my_account.account_number}\")\n",
    "        print(f\"Holder: {my_account.holder_name}\")\n",
    "        \n",
    "        # Transactions\n",
    "        my_account.deposit(500)\n",
    "        print(f\"Balance after deposit: ${my_account.balance:.2f}\")\n",
    "        \n",
    "        # Withdrawal with auth\n",
    "        withdrawn = my_account.withdraw(200, \"s3cr3t!\")\n",
    "        print(f\"Withdrew ${withdrawn:.2f}, New Balance: ${my_account.balance:.2f}\")\n",
    "        \n",
    "        # Try to access private attributes (will fail)\n",
    "        # print(my_account.__balance)  # AttributeError\n",
    "        # my_account.balance = 10000   # AttributeError (read-only)\n",
    "        \n",
    "        # View transaction history\n",
    "        print(\"\\nTransaction History:\")\n",
    "        for tx in my_account.transaction_history:\n",
    "            print(f\"{tx['time']} - {tx['type']}: {tx['amount']}\")\n",
    "            \n",
    "        # Test security\n",
    "        try:\n",
    "            my_account.withdraw(1000, \"wrong_pass\")\n",
    "        except my_account.AuthenticationError:\n",
    "            print(\"\\nSecurity Alert: Failed login attempt logged!\")\n",
    "            \n",
    "        print(f\"Total bank accounts: {SecureBankingSystem.get_total_accounts()}\")\n",
    "        \n",
    "    except Exception as e:\n",
    "        print(f\"Banking Error: {str(e)}\")"
   ]
  },
  {
   "cell_type": "markdown",
   "id": "c72c1038-74e3-445f-9432-25479e354d4e",
   "metadata": {},
   "source": [
    "## Inheritance"
   ]
  },
  {
   "cell_type": "markdown",
   "id": "a6518377-9a89-4247-aebc-deacb071d588",
   "metadata": {},
   "source": [
    "• Mechanism to create new classes from existing ones\n",
    "\n",
    "• Superclass (Parent) → Subclass (Child)\n",
    "\n",
    "• Child inherits attributes and methods\n",
    "\n",
    "• Enables code reuse and hierarchy"
   ]
  },
  {
   "cell_type": "markdown",
   "id": "804136d6-09f3-432b-bb93-0b4e34176fe1",
   "metadata": {},
   "source": [
    "  BASIC SYNTAX\n",
    "  \n",
    "-----------------------------------------------\n",
    "```python\n",
    "class ParentClass:\n",
    "    # Parent attributes/methods\n",
    "    pass\n",
    "\n",
    "class ChildClass(ParentClass):  # Inheritance syntax\n",
    "    # Child attributes/methods\n",
    "    pass"
   ]
  },
  {
   "cell_type": "markdown",
   "id": "92e03373-60b5-4b15-a21b-21bd388433c1",
   "metadata": {},
   "source": [
    "### Single Inheritance\n"
   ]
  },
  {
   "cell_type": "code",
   "execution_count": 22,
   "id": "bbd636e5-d7d4-43ea-a508-5c66bc3ad2e7",
   "metadata": {},
   "outputs": [
    {
     "name": "stdout",
     "output_type": "stream",
     "text": [
      "Buddy is eating\n",
      "Woof!\n"
     ]
    }
   ],
   "source": [
    "class Animal:\n",
    "    def __init__(self, name):\n",
    "        self.name = name\n",
    "    \n",
    "    def eat(self):\n",
    "        print(f\"{self.name} is eating\")\n",
    "\n",
    "class Dog(Animal):  # Single parent\n",
    "    def bark(self):\n",
    "        print(\"Woof!\")\n",
    "\n",
    "# Usage\n",
    "dog = Dog(\"Buddy\")\n",
    "dog.eat()  # Inherited method\n",
    "dog.bark() # Child method\n"
   ]
  },
  {
   "cell_type": "markdown",
   "id": "28acb1df-85d5-4cb4-9bf6-9dec6915465c",
   "metadata": {},
   "source": [
    "### Multilevel"
   ]
  },
  {
   "cell_type": "code",
   "execution_count": 23,
   "id": "c231c0ef-6bff-4cfc-a86a-29a57ee30aa8",
   "metadata": {},
   "outputs": [
    {
     "name": "stdout",
     "output_type": "stream",
     "text": [
      "Breathing...\n",
      "Feeding milk\n"
     ]
    }
   ],
   "source": [
    "class Animal:\n",
    "    def breathe(self):\n",
    "        print(\"Breathing...\")\n",
    "\n",
    "class Mammal(Animal):\n",
    "    def feed_milk(self):\n",
    "        print(\"Feeding milk\")\n",
    "\n",
    "class Dog(Mammal):  # Inherits from Mammal which inherits from Animal\n",
    "    pass\n",
    "\n",
    "# Usage\n",
    "dog = Dog()\n",
    "dog.breathe()    # From Animal\n",
    "dog.feed_milk()  # From Mammal\n"
   ]
  },
  {
   "cell_type": "markdown",
   "id": "261b65aa-7744-416c-af70-1433eb2b273e",
   "metadata": {},
   "source": [
    "### Hierarchical"
   ]
  },
  {
   "cell_type": "code",
   "execution_count": 24,
   "id": "39479e61-a77a-43f8-a553-1c4bada4e5eb",
   "metadata": {},
   "outputs": [
    {
     "name": "stdout",
     "output_type": "stream",
     "text": [
      "Moving...\n",
      "Moving...\n"
     ]
    }
   ],
   "source": [
    "class Vehicle:\n",
    "    def move(self):\n",
    "        print(\"Moving...\")\n",
    "\n",
    "class Car(Vehicle):\n",
    "    pass\n",
    "\n",
    "class Boat(Vehicle):  # Sibling of Car\n",
    "    pass\n",
    "\n",
    "# Usage\n",
    "car = Car()\n",
    "boat = Boat()\n",
    "car.move()  # From Vehicle\n",
    "boat.move() # From Vehicle"
   ]
  },
  {
   "cell_type": "markdown",
   "id": "728d1e17-b026-4827-b9ff-c02e100bfd60",
   "metadata": {},
   "source": [
    "### Multiple Inheritance"
   ]
  },
  {
   "cell_type": "code",
   "execution_count": 25,
   "id": "2d2f85a4-ccf9-4698-b05c-f1371ded4684",
   "metadata": {},
   "outputs": [
    {
     "name": "stdout",
     "output_type": "stream",
     "text": [
      "Taking photo\n",
      "Making call\n"
     ]
    }
   ],
   "source": [
    "class Camera:\n",
    "    def take_photo(self):\n",
    "        print(\"Taking photo\")\n",
    "\n",
    "class Phone:\n",
    "    def make_call(self):\n",
    "        print(\"Making call\")\n",
    "\n",
    "class SmartPhone(Camera, Phone):  # Multiple parents\n",
    "    pass\n",
    "\n",
    "# Usage\n",
    "phone = SmartPhone()\n",
    "phone.take_photo()\n",
    "phone.make_call()"
   ]
  },
  {
   "cell_type": "markdown",
   "id": "89749f0f-83b4-4032-828d-82b0430cbab1",
   "metadata": {},
   "source": [
    "### Method Overrriding\n"
   ]
  },
  {
   "cell_type": "code",
   "execution_count": 26,
   "id": "369846b2-d2ec-4495-8eaf-55ec936ecf07",
   "metadata": {},
   "outputs": [
    {
     "name": "stdout",
     "output_type": "stream",
     "text": [
      "Flying high\n",
      "Penguins can't fly!\n"
     ]
    }
   ],
   "source": [
    "class Bird:\n",
    "    def fly(self):\n",
    "        print(\"Flying high\")\n",
    "\n",
    "class Penguin(Bird):\n",
    "    def fly(self):  # Overrides parent method\n",
    "        print(\"Penguins can't fly!\")\n",
    "\n",
    "# Usage\n",
    "bird = Bird()\n",
    "penguin = Penguin()\n",
    "bird.fly()    # \"Flying high\"\n",
    "penguin.fly() # \"Penguins can't fly!\""
   ]
  },
  {
   "cell_type": "markdown",
   "id": "c9cdce51-ea94-4760-8a7d-c383e04c65ec",
   "metadata": {},
   "source": [
    "### `super` Function"
   ]
  },
  {
   "cell_type": "code",
   "execution_count": 27,
   "id": "dffcb9bb-2824-4f7e-b079-bc87856e0386",
   "metadata": {},
   "outputs": [
    {
     "name": "stdout",
     "output_type": "stream",
     "text": [
      "Alice 123\n"
     ]
    }
   ],
   "source": [
    "class Person:\n",
    "    def __init__(self, name):\n",
    "        self.name = name\n",
    "\n",
    "class Employee(Person):\n",
    "    def __init__(self, name, id):\n",
    "        super().__init__(name)  # Calls parent __init__\n",
    "        self.id = id\n",
    "\n",
    "# Usage\n",
    "emp = Employee(\"Alice\", 123)\n",
    "print(emp.name, emp.id)"
   ]
  },
  {
   "cell_type": "code",
   "execution_count": 28,
   "id": "c8694f94-4426-49c2-b608-b1fde5e16db4",
   "metadata": {},
   "outputs": [
    {
     "name": "stdout",
     "output_type": "stream",
     "text": [
      "Generic (Unknown)\n",
      "Generic animal sound\n",
      "Buddy (Canine)\n",
      "Woof!\n",
      "Buddy fetches ball\n",
      "Whiskers (Feline)\n",
      "Meow!\n",
      "Whiskers climbs the curtains!\n"
     ]
    }
   ],
   "source": [
    "\"\"\"\n",
    "- Single inheritance\n",
    "- Method overriding\n",
    "- super() usage\n",
    "- Parent/child initialization\n",
    "\"\"\"\n",
    "\n",
    "class Animal:\n",
    "    def __init__(self, name, species):\n",
    "        self.name = name\n",
    "        self.species = species\n",
    "    \n",
    "    def make_sound(self):\n",
    "        print(\"Generic animal sound\")\n",
    "    \n",
    "    def show_info(self):\n",
    "        print(f\"{self.name} ({self.species})\")\n",
    "\n",
    "class Dog(Animal):\n",
    "    def __init__(self, name, breed):\n",
    "        super().__init__(name, species=\"Canine\")  # Parent init\n",
    "        self.breed = breed\n",
    "    \n",
    "    # Method overriding\n",
    "    def make_sound(self):\n",
    "        print(\"Woof!\")\n",
    "    \n",
    "    # Child-specific method\n",
    "    def fetch(self, item):\n",
    "        print(f\"{self.name} fetches {item}\")\n",
    "\n",
    "class Cat(Animal):\n",
    "    def __init__(self, name, is_indoor):\n",
    "        super().__init__(name, species=\"Feline\")\n",
    "        self.is_indoor = is_indoor\n",
    "    \n",
    "    def make_sound(self):\n",
    "        print(\"Meow!\")\n",
    "    \n",
    "    def climb(self):\n",
    "        print(f\"{self.name} climbs the curtains!\")\n",
    "\n",
    "# --- Usage ---\n",
    "if __name__ == \"__main__\":\n",
    "    # Parent class\n",
    "    generic = Animal(\"Generic\", \"Unknown\")\n",
    "    generic.show_info()  # Generic (Unknown)\n",
    "    generic.make_sound() # Generic animal sound\n",
    "\n",
    "    # Dog subclass\n",
    "    buddy = Dog(\"Buddy\", \"Golden Retriever\")\n",
    "    buddy.show_info()    # Buddy (Canine) - inherited\n",
    "    buddy.make_sound()   # Woof! - overridden\n",
    "    buddy.fetch(\"ball\")  # Buddy fetches ball - unique\n",
    "\n",
    "    # Cat subclass\n",
    "    whiskers = Cat(\"Whiskers\", True)\n",
    "    whiskers.show_info() # Whiskers (Feline)\n",
    "    whiskers.make_sound()# Meow!\n",
    "    whiskers.climb()     # Whiskers climbs the curtains!"
   ]
  },
  {
   "cell_type": "markdown",
   "id": "c4d8db06-82c8-44de-9d83-4b6e3e5baf80",
   "metadata": {},
   "source": [
    "## Polymorphism"
   ]
  },
  {
   "cell_type": "markdown",
   "id": "9f91cfd9-d060-4b49-a27e-b474773cc4fa",
   "metadata": {},
   "source": [
    " \"Many forms\" - same interface for different types"
   ]
  },
  {
   "cell_type": "markdown",
   "id": "52bcc8f0-a6d2-4f30-b664-050fcca97462",
   "metadata": {},
   "source": [
    "Two types in Python:\n",
    "  1. Duck Typing (Dynamic)\n",
    "  2. Method Overriding (Inheritance-based)"
   ]
  },
  {
   "cell_type": "markdown",
   "id": "5f9713b4-9854-4cf0-aa62-e77e4eabc055",
   "metadata": {},
   "source": [
    "  DUCK TYPING \n",
    "\n",
    "- Objects are used based on behavior, not type\n",
    "- No explicit interface requirements"
   ]
  },
  {
   "cell_type": "code",
   "execution_count": 31,
   "id": "bbe46465-8698-4196-8c7f-c91a3b040982",
   "metadata": {},
   "outputs": [
    {
     "name": "stdout",
     "output_type": "stream",
     "text": [
      "Quack quack!\n",
      "I'm quacking like a duck!\n"
     ]
    }
   ],
   "source": [
    "class Duck:\n",
    "    def quack(self):\n",
    "        print(\"Quack quack!\")\n",
    "\n",
    "class Person:\n",
    "    def quack(self):\n",
    "        print(\"I'm quacking like a duck!\")\n",
    "\n",
    "def make_it_quack(thing):  # Accepts any \"quackable\" object\n",
    "    thing.quack()\n",
    "\n",
    "# Usage\n",
    "d = Duck()\n",
    "make_it_quack(d)\n",
    "\n",
    "p = Person()\n",
    "make_it_quack(p)"
   ]
  },
  {
   "cell_type": "markdown",
   "id": "d6f223c7-3c92-4be2-b904-4374e2e6c058",
   "metadata": {},
   "source": [
    "METHOD OVERRIDING (INHERITANCE-BASED)\n",
    "\n",
    "\n",
    "• Child classes redefine parent methods\n",
    "\n",
    "• Same method name, different implementations"
   ]
  },
  {
   "cell_type": "code",
   "execution_count": 33,
   "id": "19bb5a59-2888-44b6-9cc5-4561a48cbdea",
   "metadata": {},
   "outputs": [
    {
     "name": "stdout",
     "output_type": "stream",
     "text": [
      "Woof!\n",
      "Meow!\n"
     ]
    }
   ],
   "source": [
    "class Animal:\n",
    "    def speak(self):\n",
    "        raise NotImplementedError(\"Subclass must implement\")\n",
    "\n",
    "class Dog(Animal):\n",
    "    def speak(self):\n",
    "        return \"Woof!\"\n",
    "\n",
    "class Cat(Animal):\n",
    "    def speak(self):\n",
    "        return \"Meow!\"\n",
    "\n",
    "def animal_talk(animal_obj):\n",
    "    print(animal_obj.speak())  # Works with any Animal subclass\n",
    "\n",
    "# Usage\n",
    "animal_talk(Dog())  # Woof!\n",
    "animal_talk(Cat())  # Meow!"
   ]
  },
  {
   "cell_type": "markdown",
   "id": "f33002c9-4229-4704-b47d-4acd4bd67b5b",
   "metadata": {},
   "source": [
    "#### Operator Overloading\n"
   ]
  },
  {
   "cell_type": "markdown",
   "id": "6cf77ff8-5354-4985-a60a-b7bdee1cc206",
   "metadata": {},
   "source": [
    "• Special methods (`__add__`, `__sub__`, etc.)\n",
    "class Vector:\n",
    "    def __init__(self, x, y):\n",
    "        self.x = x\n",
    "        self.y = y\n",
    "    \n",
    "    def __add__(self, other):  # Overloads + operator\n",
    "        return Vector(self.x + other.x, self.y + other.y)\n",
    "    \n",
    "    def __str__(self):\n",
    "        return f\"Vector({self.x}, {self.y})\"\n",
    "\n",
    "# Usage\n",
    "v1 = Vector(2, 3)\n",
    "v2 = Vector(1, 4)\n",
    "print(v1 + v2)  # Vector(3, 7)\n",
    "• Same operator behaves differently with different types"
   ]
  },
  {
   "cell_type": "code",
   "execution_count": 34,
   "id": "6a1d66f2-5d5f-4dc7-a5b8-014a292a4598",
   "metadata": {},
   "outputs": [
    {
     "name": "stdout",
     "output_type": "stream",
     "text": [
      "Vector(3, 7)\n"
     ]
    }
   ],
   "source": [
    "class Vector:\n",
    "    def __init__(self, x, y):\n",
    "        self.x = x\n",
    "        self.y = y\n",
    "    \n",
    "    def __add__(self, other):  # Overloads + operator\n",
    "        return Vector(self.x + other.x, self.y + other.y)\n",
    "    \n",
    "    def __str__(self):\n",
    "        return f\"Vector({self.x}, {self.y})\"\n",
    "\n",
    "# Usage\n",
    "v1 = Vector(2, 3)\n",
    "v2 = Vector(1, 4)\n",
    "print(v1 + v2)  # Vector(3, 7)"
   ]
  },
  {
   "cell_type": "code",
   "execution_count": 35,
   "id": "0971df92-388e-45ba-9afa-8b37b15aa5ae",
   "metadata": {},
   "outputs": [
    {
     "name": "stdout",
     "output_type": "stream",
     "text": [
      "(3, 7)\n"
     ]
    }
   ],
   "source": [
    "class Vector:\n",
    "    def __init__(self, x, y):\n",
    "        self.x = x\n",
    "        self.y = y\n",
    "    \n",
    "    def __add__(self, other):\n",
    "        return Vector(self.x + other.x, self.y + other.y)\n",
    "    \n",
    "    def __str__(self):  # ← THIS METHOD\n",
    "        return f\"({self.x}, {self.y})\"  # Custom string format\n",
    "\n",
    "# Usage\n",
    "v1 = Vector(2, 3)\n",
    "v2 = Vector(1, 4)\n",
    "result = v1 + v2  # Creates new Vector(3, 7)\n",
    "\n",
    "print(result)  # Calls result.__str__() → \"(3, 7)\""
   ]
  },
  {
   "cell_type": "markdown",
   "id": "6c708d82-e2bc-492d-80e8-8f2d31579726",
   "metadata": {},
   "source": [
    "    A special method that defines how an object should be represented as a string\n",
    "\n",
    "    Automatically called by:\n",
    "\n",
    "        print()\n",
    "\n",
    "        str()\n",
    "\n",
    "        String formatting (f-strings, .format())"
   ]
  },
  {
   "cell_type": "markdown",
   "id": "c8774eea-c8b2-4df5-8c57-b5a59b9519dd",
   "metadata": {},
   "source": [
    "## Abstraction"
   ]
  },
  {
   "cell_type": "markdown",
   "id": "18728ee6-009c-43e0-84ae-755397754619",
   "metadata": {},
   "source": [
    "1. CORE CONCEPT\n",
    "-----------------------------------------------\n",
    "• Hiding complex implementation details\n",
    "\n",
    "• Exposing only essential features\n",
    "\n",
    "• \"Show what, hide how\"\n",
    "\n",
    "Real-world analogy:\n",
    "- Car dashboard (shows speed, hides engine complexity)\n",
    "- TV remote (has power button, hides circuitry)\n",
    "\n",
    "2. HOW PYTHON IMPLEMENTS ABSTRACTION\n",
    "-----------------------------------------------\n",
    "• Through abstract base classes (ABC)\n",
    "\n",
    "• Using `@abstractmethod` decorator\n",
    "\n",
    "• Convention-based (underscore naming)"
   ]
  },
  {
   "cell_type": "code",
   "execution_count": 36,
   "id": "cfa6d349-c210-45c5-923b-768a045da351",
   "metadata": {},
   "outputs": [
    {
     "name": "stdout",
     "output_type": "stream",
     "text": [
      "Heating water to perfect temperature\n",
      "Extracting coffee grounds\n",
      "Dispensing into cup\n",
      "Enjoy your coffee!\n"
     ]
    }
   ],
   "source": [
    "class CoffeeMachine:\n",
    "    def __init__(self):\n",
    "        self.__water_temp = 0  # Hidden internal state\n",
    "    \n",
    "    def brew_coffee(self):\n",
    "        self.__heat_water()\n",
    "        self.__extract_coffee()\n",
    "        self.__dispense()\n",
    "        print(\"Enjoy your coffee!\")\n",
    "    \n",
    "    def __heat_water(self):  # Hidden implementation\n",
    "        self.__water_temp = 92\n",
    "        print(\"Heating water to perfect temperature\")\n",
    "    \n",
    "    def __extract_coffee(self):\n",
    "        print(\"Extracting coffee grounds\")\n",
    "    \n",
    "    def __dispense(self):\n",
    "        print(\"Dispensing into cup\")\n",
    "\n",
    "# Usage\n",
    "machine = CoffeeMachine()\n",
    "machine.brew_coffee()"
   ]
  },
  {
   "cell_type": "code",
   "execution_count": 37,
   "id": "490c9b0a-b31d-4014-b81a-2989de8a8935",
   "metadata": {},
   "outputs": [
    {
     "name": "stdout",
     "output_type": "stream",
     "text": [
      "Sound: Woof!\n",
      "Movement: Running on four legs\n",
      "-----\n",
      "Sound: Chirp!\n",
      "Movement: Flying\n",
      "-----\n"
     ]
    }
   ],
   "source": [
    "from abc import ABC, abstractmethod\n",
    "\n",
    "# Abstract class (Blueprint)\n",
    "class Animal(ABC):\n",
    "    @abstractmethod\n",
    "    def make_sound(self):\n",
    "        pass\n",
    "    \n",
    "    @abstractmethod\n",
    "    def move(self):\n",
    "        pass\n",
    "\n",
    "# Concrete classes (Actual implementations)\n",
    "class Dog(Animal):\n",
    "    def make_sound(self):\n",
    "        return \"Woof!\"\n",
    "    \n",
    "    def move(self):\n",
    "        return \"Running on four legs\"\n",
    "\n",
    "class Bird(Animal):\n",
    "    def make_sound(self):\n",
    "        return \"Chirp!\"\n",
    "    \n",
    "    def move(self):\n",
    "        return \"Flying\"\n",
    "\n",
    "# This will fail because it doesn't implement all abstract methods\n",
    "# class Fish(Animal):  \n",
    "#     pass\n",
    "\n",
    "# Usage\n",
    "animals = [Dog(), Bird()]\n",
    "\n",
    "for animal in animals:\n",
    "    print(f\"Sound: {animal.make_sound()}\")\n",
    "    print(f\"Movement: {animal.move()}\")\n",
    "    print(\"-----\")"
   ]
  },
  {
   "cell_type": "code",
   "execution_count": null,
   "id": "bec6bade-b949-46b1-8a2f-5d0436f201c9",
   "metadata": {},
   "outputs": [],
   "source": []
  }
 ],
 "metadata": {
  "kernelspec": {
   "display_name": "Python 3 (ipykernel)",
   "language": "python",
   "name": "python3"
  },
  "language_info": {
   "codemirror_mode": {
    "name": "ipython",
    "version": 3
   },
   "file_extension": ".py",
   "mimetype": "text/x-python",
   "name": "python",
   "nbconvert_exporter": "python",
   "pygments_lexer": "ipython3",
   "version": "3.12.3"
  }
 },
 "nbformat": 4,
 "nbformat_minor": 5
}
