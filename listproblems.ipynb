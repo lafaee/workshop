{
 "cells": [
  {
   "cell_type": "markdown",
   "id": "ce3f9913-eaa4-4186-a719-4ebb13a18f94",
   "metadata": {
    "jp-MarkdownHeadingCollapsed": true
   },
   "source": [
    "### Problem 1: Find All Duplicates\n",
    "**Statement**: Given a list of integers where 1 ≤ value ≤ list_length, find all duplicate elements.  \n",
    "**Input**: [4, 3, 2, 7, 8, 2, 3, 1]  \n",
    "\n",
    "**Output**: [2, 3]"
   ]
  },
  {
   "cell_type": "code",
   "execution_count": 2,
   "id": "8f2a4b92-1194-4704-b910-c1675ac86b46",
   "metadata": {},
   "outputs": [],
   "source": [
    "def find_duplicates(nums):\n",
    "    seen = set()\n",
    "    duplicates = []\n",
    "    for num in nums:\n",
    "        if num in seen:\n",
    "            duplicates.append(num)\n",
    "        else:\n",
    "            seen.add(num)\n",
    "    return duplicates"
   ]
  },
  {
   "cell_type": "markdown",
   "id": "749ebc95-4034-4d79-afc3-191a2a4719e3",
   "metadata": {
    "jp-MarkdownHeadingCollapsed": true
   },
   "source": [
    "### Problem 2: Remove All Occurrences\n",
    "\n",
    "**Statement**: Remove all instances of a given value from a list in-place.  \n",
    "**Input**: [3, 2, 2, 3], val=3  \n",
    "**Output**: Output: [2, 2]\n"
   ]
  },
  {
   "cell_type": "code",
   "execution_count": 3,
   "id": "bb9c3fb4-19da-4672-965e-b97b3be4979c",
   "metadata": {},
   "outputs": [],
   "source": [
    "def remove_element(nums, val):\n",
    "    i = 0\n",
    "    while i < len(nums):\n",
    "        if nums[i] == val:\n",
    "            nums.pop(i)\n",
    "        else:\n",
    "            i += 1\n",
    "    return nums"
   ]
  },
  {
   "cell_type": "markdown",
   "id": "ea72ac4a-06e1-442d-b9ef-f651dc07e8ba",
   "metadata": {
    "jp-MarkdownHeadingCollapsed": true
   },
   "source": [
    "### Problem 3: Rotate List Left by k\n",
    "**Statement**: Rotate a list to the left by `k` positions.  \n",
    "**Input**: [1, 2, 3, 4, 5], k=2  \n",
    "\n",
    "**Output**: [3, 4, 5, 1, 2]"
   ]
  },
  {
   "cell_type": "code",
   "execution_count": 4,
   "id": "68139903-aa18-4bca-8b36-dee2614fb272",
   "metadata": {},
   "outputs": [],
   "source": [
    "def rotate_left(nums, k):\n",
    "    k = k % len(nums)\n",
    "    return nums[k:] + nums[:k]"
   ]
  },
  {
   "cell_type": "markdown",
   "id": "677ac377-bd55-48d1-9532-b3d520a1d115",
   "metadata": {},
   "source": [
    "### Problem 4: Matrix Transpose\n",
    "**Statement**: Transpose a given 2D list (swap rows and columns).  \n",
    "**Input**: [[1, 2, 3], [4, 5, 6], [7, 8, 9]] \n",
    "\n",
    "**Output**:  [[1, 4, 7], [2, 5, 8], [3, 6, 9]]"
   ]
  },
  {
   "cell_type": "code",
   "execution_count": 5,
   "id": "60b17aab-03db-44aa-ba21-c76ffe70a200",
   "metadata": {},
   "outputs": [],
   "source": [
    "def transpose(matrix):\n",
    "    return [list(row) for row in zip(*matrix)]"
   ]
  },
  {
   "cell_type": "markdown",
   "id": "c5d09b32-1f8a-4dc8-bc7b-2e62cb26687f",
   "metadata": {},
   "source": [
    "### Problem 5: Split List into Chunks\n",
    "**Statement**: Split a list into sublists where each sublist has at most `n` elements.  \n",
    "**Input**: [1, 2, 3, 4, 5], n=2  \n",
    "\n",
    "**Output**: [[1, 2], [3, 4], [5]]"
   ]
  },
  {
   "cell_type": "code",
   "execution_count": 6,
   "id": "93b2f5ff-a30b-47d7-adf8-96de01377a3b",
   "metadata": {},
   "outputs": [],
   "source": [
    "def chunk_list(lst, n):\n",
    "    return [lst[i:i+n] for i in range(0, len(lst), n)]"
   ]
  },
  {
   "cell_type": "markdown",
   "id": "1f76687a-4202-43c4-b093-7fe78797a2a2",
   "metadata": {},
   "source": [
    "### Problem 6: Find Leaders\n",
    "**Statement**: Find all elements greater than all elements to their right.  \n",
    "**Input**: [16, 17, 4, 3, 5, 2]  \n",
    "\n",
    "**Output** :  [17, 5, 2]"
   ]
  },
  {
   "cell_type": "code",
   "execution_count": 7,
   "id": "e91ae70b-2eca-4473-a228-e71fc6f79164",
   "metadata": {},
   "outputs": [],
   "source": [
    "def find_leaders(nums):\n",
    "    max_right = -float('inf')\n",
    "    leaders = []\n",
    "    for num in reversed(nums):\n",
    "        if num > max_right:\n",
    "            leaders.append(num)\n",
    "            max_right = num\n",
    "    return leaders[::-1]"
   ]
  },
  {
   "cell_type": "markdown",
   "id": "7e4e3ed6-4093-4939-89e7-64ca0ba7ddc0",
   "metadata": {},
   "source": [
    "### Problem 7: Equilibrium Index\n",
    "**Statement**: Find the index where sum of left elements equals sum of right elements.  \n",
    "**Input**: [1, 7, 3, 6, 5, 6]  \n",
    "\n",
    "**Output**: 3"
   ]
  },
  {
   "cell_type": "code",
   "execution_count": 8,
   "id": "d87a35f9-afa3-4b7c-8f5e-05e7a1f5c6b1",
   "metadata": {},
   "outputs": [],
   "source": [
    "def equilibrium_index(nums):\n",
    "    total = sum(nums)\n",
    "    left_sum = 0\n",
    "    for i, num in enumerate(nums):\n",
    "        if left_sum == (total - left_sum - num):\n",
    "            return i\n",
    "        left_sum += num\n",
    "    return -1"
   ]
  },
  {
   "cell_type": "markdown",
   "id": "a68804b8-0268-4b04-a719-a14494cbf1fb",
   "metadata": {},
   "source": [
    "### Problem 8: Merge Sorted Lists\n",
    "**Statement**: Merge two sorted lists into one sorted list.  \n",
    "**Input**: list1 = [1, 3, 5], list2 = [2, 4, 6]  \n",
    "\n",
    "**Output**: [1, 2, 3, 4, 5, 6]"
   ]
  },
  {
   "cell_type": "code",
   "execution_count": 9,
   "id": "a342492b-def7-4bdc-91d4-53605b50e5a9",
   "metadata": {},
   "outputs": [],
   "source": [
    "def merge_sorted(list1, list2):\n",
    "    merged = []\n",
    "    i = j = 0\n",
    "    while i < len(list1) and j < len(list2):\n",
    "        if list1[i] < list2[j]:\n",
    "            merged.append(list1[i])\n",
    "            i += 1\n",
    "        else:\n",
    "            merged.append(list2[j])\n",
    "            j += 1\n",
    "    merged.extend(list1[i:])\n",
    "    merged.extend(list2[j:])\n",
    "    return merged"
   ]
  },
  {
   "cell_type": "code",
   "execution_count": null,
   "id": "9d0c437d-dd24-442a-b441-12983884154b",
   "metadata": {},
   "outputs": [],
   "source": []
  }
 ],
 "metadata": {
  "kernelspec": {
   "display_name": "Python 3 (ipykernel)",
   "language": "python",
   "name": "python3"
  },
  "language_info": {
   "codemirror_mode": {
    "name": "ipython",
    "version": 3
   },
   "file_extension": ".py",
   "mimetype": "text/x-python",
   "name": "python",
   "nbconvert_exporter": "python",
   "pygments_lexer": "ipython3",
   "version": "3.12.3"
  }
 },
 "nbformat": 4,
 "nbformat_minor": 5
}
