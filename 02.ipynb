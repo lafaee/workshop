{
 "cells": [
  {
   "cell_type": "markdown",
   "id": "d86ce343-057f-4dd3-a7c3-33f92d4ccb3c",
   "metadata": {},
   "source": [
    "## Mutability"
   ]
  },
  {
   "cell_type": "markdown",
   "id": "8eacfdd4-2ff4-49f9-9e60-ef1670fac2c6",
   "metadata": {},
   "source": [
    "- **Mutability** determines whether an object can be modified after creation.\n",
    "- **Mutable Objects**: Can change state/data (e.g., `list`, `dict`, `set`).\n",
    "- **Immutable Objects**: Cannot change state (e.g., `int`, `float`, `str`, `tuple`).\n"
   ]
  },
  {
   "cell_type": "code",
   "execution_count": 2,
   "id": "7e7f7f72-617c-4545-acfb-75ebbd356921",
   "metadata": {},
   "outputs": [
    {
     "name": "stdout",
     "output_type": "stream",
     "text": [
      "10\n",
      "[1, 2, 3, 4]\n"
     ]
    }
   ],
   "source": [
    "# Immutable (int)\n",
    "x = 10\n",
    "y = x\n",
    "y += 5\n",
    "print(x)  # Output: 10 (unchanged)\n",
    "\n",
    "# Mutable (list)\n",
    "a = [1, 2, 3]\n",
    "b = a\n",
    "b.append(4)\n",
    "print(a)  # Output: [1, 2, 3, 4] (changed)"
   ]
  },
  {
   "cell_type": "markdown",
   "id": "62f60fee-3aa3-446d-8314-bce44d4c16b0",
   "metadata": {},
   "source": [
    "- Immutable objects create new objects when \"modified\".\n",
    "- Mutable changes affect all references to the same object.\n",
    "- **Danger Zone**: Accidental aliasing of mutable objects."
   ]
  },
  {
   "cell_type": "markdown",
   "id": "d87970d1-b5df-4c6d-9742-485b1dd62188",
   "metadata": {},
   "source": [
    "## Hashability"
   ]
  },
  {
   "cell_type": "markdown",
   "id": "9d6266bb-34fb-4ba0-81dd-e1d8786a2463",
   "metadata": {},
   "source": [
    "*Hashability* determines if an object can be used as a dictionary key or set element.\n",
    "\n",
    "- **Hashable**: Objects with fixed hash value during their lifetime.\n",
    "  - All immutable types (`int`, `str`, `tuple` with immutable elements).\n",
    "\n",
    "    valid_key = {(1, 2): \"tuple\"}  # Hashable (immutable elements)\n",
    "\n",
    "- **Unhashable**: Objects that cannot be hashed (e.g., `list`, `dict`, `set`)."
   ]
  },
  {
   "cell_type": "code",
   "execution_count": 4,
   "id": "15df7cd2-0868-48b9-beb1-936807202a3d",
   "metadata": {},
   "outputs": [],
   "source": [
    "valid_key = {(1, 2): \"tuple\"}  # Hashable (immutable elements)\n",
    "# invalid_key = {[1, 2]: \"list\"}  # TypeError (unhashable list)\n",
    "\n",
    "# Tuple with mutable element is unhashable\n",
    "# bad_tuple = (1, [2, 3])        # Not hashable"
   ]
  },
  {
   "cell_type": "markdown",
   "id": "fd32a853-5ed0-4bf0-b9aa-e58a0ab9ae08",
   "metadata": {},
   "source": [
    "## Indentity ('is') vs Equality('==')"
   ]
  },
  {
   "cell_type": "markdown",
   "id": "822f750a-747e-47b2-b80b-3185633b9a59",
   "metadata": {},
   "source": [
    "- **`is`**: Checks if two variables reference the *same object in memory* (identity).\n",
    "- **`==`**: Checks if two objects have the *same value* (equality)."
   ]
  },
  {
   "cell_type": "code",
   "execution_count": 5,
   "id": "930180fd-967a-4bc3-9a96-ba01a43c941e",
   "metadata": {},
   "outputs": [
    {
     "name": "stdout",
     "output_type": "stream",
     "text": [
      "True\n",
      "False\n",
      "True\n",
      "False\n",
      "True\n"
     ]
    }
   ],
   "source": [
    "# Integers (interning for small numbers)\n",
    "a = 256\n",
    "b = 256\n",
    "print(a is b)  # Output: True (interning)\n",
    "\n",
    "c = 257\n",
    "d = 257\n",
    "print(c is d)  # Output: False (no interning)\n",
    "\n",
    "# Strings (interning for literals)\n",
    "s1 = \"hello\"\n",
    "s2 = \"hello\"\n",
    "print(s1 is s2)  # Output: True (interning)\n",
    "\n",
    "# Lists (always new objects)\n",
    "list1 = [1, 2]\n",
    "list2 = [1, 2]\n",
    "print(list1 is list2)  # Output: False\n",
    "print(list1 == list2)  # Output: True"
   ]
  },
  {
   "cell_type": "markdown",
   "id": "e63e8415-12be-4562-88c4-0f5941562fe1",
   "metadata": {},
   "source": [
    "- Use `is` for `None`, `True`, `False` checks.\n",
    "- `==` can be customized via `__eq__` method.\n",
    "- **Interning**: Python reuses objects for small integers (-5 to 256) and string literals."
   ]
  },
  {
   "cell_type": "code",
   "execution_count": 6,
   "id": "9b72bccc-05b7-4bd9-bbb7-674063d2094f",
   "metadata": {},
   "outputs": [
    {
     "name": "stdout",
     "output_type": "stream",
     "text": [
      "[1]\n",
      "[1, 2]\n"
     ]
    }
   ],
   "source": [
    "def append_to(element, items=[]):\n",
    "    items.append(element)\n",
    "    return items\n",
    "\n",
    "print(append_to(1))  # Output: [1]\n",
    "print(append_to(2))  # Output: [1, 2] (retains previous state!)"
   ]
  },
  {
   "cell_type": "code",
   "execution_count": 7,
   "id": "eea95e80-efe1-41eb-8e27-0b8cc55c3ded",
   "metadata": {},
   "outputs": [
    {
     "name": "stdout",
     "output_type": "stream",
     "text": [
      "[1]\n",
      "[2]\n"
     ]
    }
   ],
   "source": [
    "def append_to(element, items=None):\n",
    "    if items is None:  # Check for `None`\n",
    "        items = []     # Create a new list each time\n",
    "    items.append(element)\n",
    "    return items\n",
    "\n",
    "print(append_to(1))  # Output: [1]\n",
    "print(append_to(2))  # Output: [2] (fresh list each call)"
   ]
  },
  {
   "cell_type": "code",
   "execution_count": null,
   "id": "0ee028df-6160-4415-936d-3be26dafb9d5",
   "metadata": {},
   "outputs": [],
   "source": []
  }
 ],
 "metadata": {
  "kernelspec": {
   "display_name": "Python 3 (ipykernel)",
   "language": "python",
   "name": "python3"
  },
  "language_info": {
   "codemirror_mode": {
    "name": "ipython",
    "version": 3
   },
   "file_extension": ".py",
   "mimetype": "text/x-python",
   "name": "python",
   "nbconvert_exporter": "python",
   "pygments_lexer": "ipython3",
   "version": "3.12.3"
  }
 },
 "nbformat": 4,
 "nbformat_minor": 5
}
