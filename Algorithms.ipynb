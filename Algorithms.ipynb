{
 "cells": [
  {
   "cell_type": "markdown",
   "id": "132d7170-3dd1-449e-a9d4-3b6df261dd5d",
   "metadata": {},
   "source": [
    "# Searching"
   ]
  },
  {
   "cell_type": "markdown",
   "id": "8c68985f-d147-4ea0-9675-084cc5842602",
   "metadata": {},
   "source": [
    "LINEAR SEARCH\n",
    "\n",
    "- Checks each element sequentially\n",
    "- Works on any list (sorted/unsorted)\n",
    "- Time: O(n)"
   ]
  },
  {
   "cell_type": "code",
   "execution_count": 1,
   "id": "dc2b8689-ac34-40cb-a52d-289bef6c7da8",
   "metadata": {},
   "outputs": [],
   "source": [
    "\n",
    "def linear_search(arr, target):\n",
    "    for i in range(len(arr)):\n",
    "        if arr[i] == target:\n",
    "            return i  # Return index if found\n",
    "    return -1  # Not found"
   ]
  },
  {
   "cell_type": "code",
   "execution_count": 2,
   "id": "d84d228c-efc7-4ddb-bca9-94467a88d86d",
   "metadata": {},
   "outputs": [
    {
     "name": "stdout",
     "output_type": "stream",
     "text": [
      "2\n"
     ]
    }
   ],
   "source": [
    "numbers = [4, 2, 7, 1, 9]\n",
    "print(linear_search(numbers, 7))"
   ]
  },
  {
   "cell_type": "markdown",
   "id": "bd5335be-40bc-41e4-8c37-249bf8a12dcc",
   "metadata": {},
   "source": [
    "BINARY SEARCH\n",
    "\n",
    "- Requires sorted list\n",
    "- Repeatedly divides search range in half"
   ]
  },
  {
   "cell_type": "code",
   "execution_count": 3,
   "id": "ef465868-4f93-4525-bdb0-2e0d75199014",
   "metadata": {},
   "outputs": [
    {
     "name": "stdout",
     "output_type": "stream",
     "text": [
      "2\n"
     ]
    }
   ],
   "source": [
    "def binary_search(arr, target):\n",
    "    left, right = 0, len(arr) - 1\n",
    "    \n",
    "    while left <= right:\n",
    "        mid = (left + right) // 2\n",
    "        if arr[mid] == target:\n",
    "            return mid\n",
    "        elif arr[mid] < target:\n",
    "            left = mid + 1\n",
    "        else:\n",
    "            right = mid - 1\n",
    "    return -1\n",
    "\n",
    "\n",
    "sorted_nums = [1, 3, 5, 7, 9]\n",
    "print(binary_search(sorted_nums, 5))"
   ]
  },
  {
   "cell_type": "markdown",
   "id": "7a47972a-b9dc-4bb3-9d18-b584e7d443e9",
   "metadata": {},
   "source": [
    "# Sorting"
   ]
  },
  {
   "cell_type": "markdown",
   "id": "193028fa-eff6-4377-98c6-357d371137ab",
   "metadata": {},
   "source": [
    "BUBBLE SORT\n",
    "\n",
    "- Compares adjacent elements\n",
    "- Swaps if in wrong order"
   ]
  },
  {
   "cell_type": "code",
   "execution_count": 5,
   "id": "482c18a1-b02a-465f-a836-c80818cf8425",
   "metadata": {},
   "outputs": [],
   "source": [
    "def bubble_sort(arr):\n",
    "    n = len(arr)\n",
    "    for i in range(n):\n",
    "        for j in range(0, n-i-1):\n",
    "            if arr[j] > arr[j+1]:\n",
    "                arr[j], arr[j+1] = arr[j+1], arr[j]"
   ]
  },
  {
   "cell_type": "code",
   "execution_count": 6,
   "id": "f865a934-ec76-477f-b621-265b6cdd88b2",
   "metadata": {},
   "outputs": [
    {
     "name": "stdout",
     "output_type": "stream",
     "text": [
      "[12, 22, 25, 34, 64]\n"
     ]
    }
   ],
   "source": [
    "nums = [64, 34, 25, 12, 22]\n",
    "bubble_sort(nums)\n",
    "print(nums) "
   ]
  },
  {
   "cell_type": "markdown",
   "id": "e7f99628-5315-471b-94d9-42c76e8c5a94",
   "metadata": {},
   "source": [
    "2 SELECTION SORT\n",
    "\n",
    "- Finds min element, swaps to front\n",
    "- Repeats for remaining list"
   ]
  },
  {
   "cell_type": "code",
   "execution_count": 7,
   "id": "a9f9a5e8-7ae6-44c1-8544-75642529ebdf",
   "metadata": {},
   "outputs": [],
   "source": [
    "\n",
    "def selection_sort(arr):\n",
    "    for i in range(len(arr)):\n",
    "        min_idx = i\n",
    "        for j in range(i+1, len(arr)):\n",
    "            if arr[j] < arr[min_idx]:\n",
    "                min_idx = j\n",
    "        arr[i], arr[min_idx] = arr[min_idx], arr[i]"
   ]
  },
  {
   "cell_type": "code",
   "execution_count": 8,
   "id": "6950aa52-c4aa-42c5-b9b3-155986576dea",
   "metadata": {},
   "outputs": [
    {
     "name": "stdout",
     "output_type": "stream",
     "text": [
      "[10, 13, 14, 29, 37]\n"
     ]
    }
   ],
   "source": [
    "data = [29, 10, 14, 37, 13]\n",
    "selection_sort(data)\n",
    "print(data)"
   ]
  },
  {
   "cell_type": "code",
   "execution_count": null,
   "id": "10c400af-38ac-4e37-9a8e-0909141d4d56",
   "metadata": {},
   "outputs": [],
   "source": []
  }
 ],
 "metadata": {
  "kernelspec": {
   "display_name": "Python 3 (ipykernel)",
   "language": "python",
   "name": "python3"
  },
  "language_info": {
   "codemirror_mode": {
    "name": "ipython",
    "version": 3
   },
   "file_extension": ".py",
   "mimetype": "text/x-python",
   "name": "python",
   "nbconvert_exporter": "python",
   "pygments_lexer": "ipython3",
   "version": "3.12.3"
  }
 },
 "nbformat": 4,
 "nbformat_minor": 5
}
