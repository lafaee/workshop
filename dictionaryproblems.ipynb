{
 "cells": [
  {
   "cell_type": "markdown",
   "id": "a0af4f0d-5b3d-4ba8-8647-f4e2aafb1427",
   "metadata": {},
   "source": [
    "### Frequency Counter\n",
    "\n",
    "**Problem Statement:**  \n",
    "Given a list of integers, return a dictionary containing the frequency of each number.\n",
    "\n",
    "**Input:**  \n",
    "A list of integers, e.g., [1, 2, 2, 3, 3, 3]\n",
    "\n",
    "**Output:**  \n",
    "A dictionary with keys as numbers and values as their frequencies, e.g., {1: 1, 2: 2, 3: 3}"
   ]
  },
  {
   "cell_type": "code",
   "execution_count": 14,
   "id": "502cef1d-dfca-4f7e-8f9b-732f9c710983",
   "metadata": {},
   "outputs": [],
   "source": [
    "def frequency_counter(lst):\n",
    "    freq = {}\n",
    "    for num in lst:\n",
    "        if num in freq:\n",
    "            freq[num] += 1\n",
    "        else:\n",
    "            freq[num] = 1\n",
    "    return freq"
   ]
  },
  {
   "cell_type": "code",
   "execution_count": 1,
   "id": "f214ba91-dcfc-481e-81c5-696853e20606",
   "metadata": {},
   "outputs": [],
   "source": [
    "def frequency_counter(lst):\n",
    "    freq = {}\n",
    "    for num in lst:\n",
    "        freq[num] = freq.get(num, 0) + 1\n",
    "    return freq"
   ]
  },
  {
   "cell_type": "markdown",
   "id": "948821ac-6502-4f10-82a2-0d5e184fb223",
   "metadata": {},
   "source": [
    "### Group Words by Length\n",
    "\n",
    "**Problem Statement:**  \n",
    "Group a list of words into a dictionary where the keys are word lengths and values are lists of words of that length.\n",
    "\n",
    "**Input:**  \n",
    "A list of words, e.g., [\"cat\", \"dog\", \"apple\", \"pie\"]\n",
    "\n",
    "**Output:**  \n",
    "A dictionary like {3: [\"cat\", \"dog\", \"pie\"], 5: [\"apple\"]}"
   ]
  },
  {
   "cell_type": "code",
   "execution_count": 15,
   "id": "bf225fed-3495-46d2-9512-6637425f1238",
   "metadata": {},
   "outputs": [],
   "source": [
    "def group_words_by_length(words):\n",
    "    result = {}\n",
    "    for word in words:\n",
    "        length = len(word)\n",
    "        if length not in result:\n",
    "            result[length] = []\n",
    "        result[length].append(word)\n",
    "    return result"
   ]
  },
  {
   "cell_type": "code",
   "execution_count": 2,
   "id": "3a52c09b-e626-405c-92e7-8db490c1e61a",
   "metadata": {},
   "outputs": [],
   "source": [
    "def group_words_by_length(words):\n",
    "    result = {}\n",
    "    for word in words:\n",
    "        length = len(word)\n",
    "        result.setdefault(length, []).append(word)\n",
    "    return result"
   ]
  },
  {
   "cell_type": "code",
   "execution_count": 3,
   "id": "08eed07c-276a-41df-8aa8-efd865df1505",
   "metadata": {},
   "outputs": [],
   "source": [
    "words = [\"cat\", \"dog\", \"apple\", \"pie\"]"
   ]
  },
  {
   "cell_type": "code",
   "execution_count": 4,
   "id": "070471fb-184d-4af5-8058-e2c6cadcd57c",
   "metadata": {},
   "outputs": [],
   "source": [
    "result = group_words_by_length(words)"
   ]
  },
  {
   "cell_type": "code",
   "execution_count": 5,
   "id": "099cf3c3-98fe-463e-9b93-d2055ea33e22",
   "metadata": {},
   "outputs": [
    {
     "name": "stdout",
     "output_type": "stream",
     "text": [
      "{3: ['cat', 'dog', 'pie'], 5: ['apple']}\n"
     ]
    }
   ],
   "source": [
    "print(result)"
   ]
  },
  {
   "cell_type": "markdown",
   "id": "868ecebb-45e8-4e78-9a3a-e59225a14d7c",
   "metadata": {},
   "source": [
    "### Find Anagrams\n",
    "\n",
    "**Problem Statement:**  \n",
    "Given a list of strings, group anagrams together into a dictionary. Keys should be the sorted word, values should be lists of anagrams.\n",
    "\n",
    "**Input:**  \n",
    "['eat', 'tea', 'tan', 'ate', 'nat', 'bat']\n",
    "\n",
    "**Output:**  \n",
    "{'aet': ['eat', 'tea', 'ate'], 'ant': ['tan', 'nat'], 'abt': ['bat']}\n"
   ]
  },
  {
   "cell_type": "code",
   "execution_count": 16,
   "id": "14adfe71-bf73-4234-90f0-011500893d93",
   "metadata": {},
   "outputs": [],
   "source": [
    "def group_anagrams(words):\n",
    "    anagrams = {}\n",
    "    for word in words:\n",
    "        sorted_word = ''.join(sorted(word))  # Sort letters to create a key\n",
    "        if sorted_word not in anagrams:\n",
    "            anagrams[sorted_word] = []\n",
    "        anagrams[sorted_word].append(word)\n",
    "    return anagrams"
   ]
  },
  {
   "cell_type": "code",
   "execution_count": 6,
   "id": "663bc1f9-1968-4618-b711-efbcbff4a310",
   "metadata": {},
   "outputs": [],
   "source": [
    "def group_anagrams(words):\n",
    "    anagrams = {}\n",
    "    for word in words:\n",
    "        key = ''.join(sorted(word))\n",
    "        anagrams.setdefault(key, []).append(word)\n",
    "    return anagrams"
   ]
  },
  {
   "cell_type": "markdown",
   "id": "0f501516-a3ab-4b90-9bfa-0fb5759ac2d6",
   "metadata": {},
   "source": [
    "### Top K Frequent Elements\n",
    "\n",
    "**Problem Statement:**  \n",
    "Given a list of integers and an integer k, return the k most frequent elements.\n",
    "\n",
    "**Input:**  \n",
    "([1,1,1,2,2,3], k=2)\n",
    "\n",
    "**Output:**  \n",
    "[1,2]"
   ]
  },
  {
   "cell_type": "code",
   "execution_count": 17,
   "id": "66245825-1e24-4181-8e3e-a3a029884a35",
   "metadata": {},
   "outputs": [],
   "source": [
    "def top_k_frequent(nums, k):\n",
    "    freq = {}\n",
    "    for num in nums:\n",
    "        if num in freq:\n",
    "            freq[num] += 1\n",
    "        else:\n",
    "            freq[num] = 1\n",
    "    sorted_items = sorted(freq.items(), key=lambda x: x[1], reverse=True)\n",
    "    return [item[0] for item in sorted_items[:k]]"
   ]
  },
  {
   "cell_type": "code",
   "execution_count": 7,
   "id": "336a499c-8dd1-4636-add5-ebbbd698cdc9",
   "metadata": {},
   "outputs": [],
   "source": [
    "from collections import Counter\n",
    "\n",
    "def top_k_frequent(nums, k):\n",
    "    count = Counter(nums)\n",
    "    return [item[0] for item in count.most_common(k)]"
   ]
  },
  {
   "cell_type": "markdown",
   "id": "3a5a70c8-3899-4ea0-ad7f-80f15c3babf4",
   "metadata": {},
   "source": [
    "### Character Frequency in String\n",
    "\n",
    "**Problem Statement:**  \n",
    "Return a dictionary with character frequency (excluding spaces) from a string.\n",
    "\n",
    "**Input:**  \n",
    "\"hello world\"\n",
    "\n",
    "**Output:**  \n",
    "{'h':1, 'e':1, 'l':3, 'o':2, 'w':1, 'r':1, 'd':1}"
   ]
  },
  {
   "cell_type": "code",
   "execution_count": 18,
   "id": "ca54af59-658b-4295-9325-4fe605711734",
   "metadata": {},
   "outputs": [],
   "source": [
    "def char_frequency(s):\n",
    "    freq = {}\n",
    "    for ch in s:\n",
    "        if ch == ' ':\n",
    "            continue  # Skip spaces\n",
    "        if ch in freq:\n",
    "            freq[ch] += 1\n",
    "        else:\n",
    "            freq[ch] = 1\n",
    "    return freq"
   ]
  },
  {
   "cell_type": "code",
   "execution_count": 8,
   "id": "4e7fd345-17e4-44ef-890b-02d68a14ec1d",
   "metadata": {},
   "outputs": [],
   "source": [
    "def char_frequency(s):\n",
    "    freq = {}\n",
    "    for ch in s.replace(' ', ''):\n",
    "        freq[ch] = freq.get(ch, 0) + 1\n",
    "    return freq"
   ]
  },
  {
   "cell_type": "markdown",
   "id": "00f962c0-c3f9-45dc-b8a4-76623d964229",
   "metadata": {},
   "source": [
    "### Find Unique Elements\n",
    "\n",
    "**Problem Statement:**  \n",
    "Return all elements from a list that appear only once using dictionary.\n",
    "\n",
    "**Input:**  \n",
    "[4,3,2,7,8,2,3,1]\n",
    "\n",
    "**Output:**  \n",
    "[4, 7, 8, 1]"
   ]
  },
  {
   "cell_type": "code",
   "execution_count": 19,
   "id": "b8b66094-b298-44fd-9a83-1b5151253652",
   "metadata": {},
   "outputs": [],
   "source": [
    "def unique_elements(nums):\n",
    "    count = {}\n",
    "    for num in nums:\n",
    "        if num in count:\n",
    "            count[num] += 1\n",
    "        else:\n",
    "            count[num] = 1\n",
    "    unique = []\n",
    "    for num in nums:\n",
    "        if count[num] == 1:\n",
    "            unique.append(num)\n",
    "    return unique"
   ]
  },
  {
   "cell_type": "code",
   "execution_count": 9,
   "id": "11454509-b0b1-495e-8591-3ebc486b8072",
   "metadata": {},
   "outputs": [],
   "source": [
    "def unique_elements(nums):\n",
    "    count = {}\n",
    "    for num in nums:\n",
    "        count[num] = count.get(num, 0) + 1\n",
    "    return [num for num in nums if count[num] == 1]"
   ]
  },
  {
   "cell_type": "markdown",
   "id": "f7deb4ef-ecce-432b-b90f-9bc2bf621edd",
   "metadata": {},
   "source": [
    "### Word Count in Sentence\n",
    "\n",
    "**Problem Statement:**  \n",
    "Count the occurrence of each word in a sentence and return a dictionary.\n",
    "\n",
    "**Input:**  \n",
    "\"this is a test this is only a test\"\n",
    "\n",
    "**Output:**  \n",
    "{'this': 2, 'is': 2, 'a': 2, 'test': 2, 'only': 1}\n"
   ]
  },
  {
   "cell_type": "code",
   "execution_count": 20,
   "id": "b7274f83-4d31-4c43-90fc-37ef0ce9bba5",
   "metadata": {},
   "outputs": [],
   "source": [
    "def word_count(sentence):\n",
    "    words = sentence.split()\n",
    "    freq = {}\n",
    "    for word in words:\n",
    "        if word in freq:\n",
    "            freq[word] += 1\n",
    "        else:\n",
    "            freq[word] = 1\n",
    "    return freq"
   ]
  },
  {
   "cell_type": "code",
   "execution_count": 10,
   "id": "b1a0b450-795f-4ac5-b7f5-609fac334976",
   "metadata": {},
   "outputs": [],
   "source": [
    "def word_count(sentence):\n",
    "    words = sentence.split()\n",
    "    freq = {}\n",
    "    for word in words:\n",
    "        freq[word] = freq.get(word, 0) + 1\n",
    "    return freq"
   ]
  },
  {
   "cell_type": "markdown",
   "id": "aae29388-4d05-498e-a208-d511a23bdfd8",
   "metadata": {},
   "source": [
    "### Index of Characters\n",
    "\n",
    "**Problem Statement:**  \n",
    "Return a dictionary with characters as keys and list of indices as values.\n",
    "\n",
    "**Input:**  \n",
    "\"banana\"\n",
    "\n",
    "**Output:**  \n",
    "{'b': [0], 'a': [1, 3, 5], 'n': [2, 4]}"
   ]
  },
  {
   "cell_type": "code",
   "execution_count": 21,
   "id": "01dde5bd-7312-4d3f-af16-0e7bd8c5edda",
   "metadata": {},
   "outputs": [],
   "source": [
    "def char_indices(s):\n",
    "    result = {}\n",
    "    for index, char in enumerate(s):\n",
    "        if char not in result:\n",
    "            result[char] = []\n",
    "        result[char].append(index)\n",
    "    return result"
   ]
  },
  {
   "cell_type": "code",
   "execution_count": 11,
   "id": "86fa10a1-58d6-41fd-93af-85f3518203f2",
   "metadata": {},
   "outputs": [],
   "source": [
    "def char_indices(s):\n",
    "    result = {}\n",
    "    for idx, ch in enumerate(s):\n",
    "        result.setdefault(ch, []).append(idx)\n",
    "    return result"
   ]
  },
  {
   "cell_type": "markdown",
   "id": "654b3c58-32f2-465b-af16-7e741eaee768",
   "metadata": {},
   "source": [
    "### Invert a Dictionary\n",
    "\n",
    "**Problem Statement:**  \n",
    "Invert a dictionary mapping keys to values into one mapping values to list of keys.\n",
    "\n",
    "**Input:**  \n",
    "{'a': 1, 'b': 2, 'c': 1}\n",
    "\n",
    "**Output:**  \n",
    "{1: ['a', 'c'], 2: ['b']}\n"
   ]
  },
  {
   "cell_type": "code",
   "execution_count": 22,
   "id": "33f7c07f-c432-4f61-af9e-a5c7d22a0c03",
   "metadata": {},
   "outputs": [],
   "source": [
    "def invert_dict(d):\n",
    "    inverted = {}\n",
    "    for key, value in d.items():\n",
    "        if value not in inverted:\n",
    "            inverted[value] = []\n",
    "        inverted[value].append(key)\n",
    "    return inverted"
   ]
  },
  {
   "cell_type": "code",
   "execution_count": 12,
   "id": "8899d35a-4c3b-4e85-9c98-c0e206539538",
   "metadata": {},
   "outputs": [],
   "source": [
    "def invert_dict(d):\n",
    "    inv = {}\n",
    "    for k, v in d.items():\n",
    "        inv.setdefault(v, []).append(k)\n",
    "    return inv"
   ]
  },
  {
   "cell_type": "markdown",
   "id": "0b31311e-c2d8-4d27-bfa6-65686fb89154",
   "metadata": {},
   "source": [
    "### Most Common Character\n",
    "\n",
    "**Problem Statement:**  \n",
    "Find the most common character in a string.\n",
    "\n",
    "**Input:**  \n",
    "\"abracadabra\"\n",
    "\n",
    "**Output:**  \n",
    "\"a\"\n"
   ]
  },
  {
   "cell_type": "code",
   "execution_count": 23,
   "id": "d97cd348-38f8-45e9-8101-9ac044cf4af6",
   "metadata": {},
   "outputs": [],
   "source": [
    "def most_common_char(s):\n",
    "    freq = {}\n",
    "    for ch in s:\n",
    "        if ch in freq:\n",
    "            freq[ch] += 1\n",
    "        else:\n",
    "            freq[ch] = 1\n",
    "    max_count = 0\n",
    "    common_char = ''\n",
    "    for char, count in freq.items():\n",
    "        if count > max_count:\n",
    "            max_count = count\n",
    "            common_char = char\n",
    "    return common_char"
   ]
  },
  {
   "cell_type": "code",
   "execution_count": 13,
   "id": "538ecec4-0090-4131-8480-1745954e7133",
   "metadata": {},
   "outputs": [],
   "source": [
    "from collections import Counter\n",
    "\n",
    "def most_common_char(s):\n",
    "    count = Counter(s)\n",
    "    return count.most_common(1)[0][0]"
   ]
  },
  {
   "cell_type": "code",
   "execution_count": null,
   "id": "c0c4765c-14d4-4025-bf9b-351bd8a5dfce",
   "metadata": {},
   "outputs": [],
   "source": []
  }
 ],
 "metadata": {
  "kernelspec": {
   "display_name": "Python 3 (ipykernel)",
   "language": "python",
   "name": "python3"
  },
  "language_info": {
   "codemirror_mode": {
    "name": "ipython",
    "version": 3
   },
   "file_extension": ".py",
   "mimetype": "text/x-python",
   "name": "python",
   "nbconvert_exporter": "python",
   "pygments_lexer": "ipython3",
   "version": "3.12.3"
  }
 },
 "nbformat": 4,
 "nbformat_minor": 5
}
