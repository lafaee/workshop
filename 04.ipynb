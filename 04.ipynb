{
 "cells": [
  {
   "cell_type": "markdown",
   "id": "75205ef5-3729-4f9a-bbd5-b08ab8a22a58",
   "metadata": {},
   "source": [
    "## Exception Handling"
   ]
  },
  {
   "cell_type": "markdown",
   "id": "9a713145-cac1-420d-82cb-ba7c18a4a454",
   "metadata": {},
   "source": [
    "- Try block: Code that might raise exceptions\n",
    "- Except block: Handles specific exceptions\n",
    "- as keyword: Captures exception object"
   ]
  },
  {
   "cell_type": "code",
   "execution_count": 1,
   "id": "a40abb59-5bef-481b-907a-7c927464620d",
   "metadata": {},
   "outputs": [
    {
     "name": "stdout",
     "output_type": "stream",
     "text": [
      "Error: division by zero\n"
     ]
    }
   ],
   "source": [
    "try:\n",
    "    result = 10 / 0\n",
    "except ZeroDivisionError as e:\n",
    "    print(f\"Error: {e}\")  # Output: Error: division by zero"
   ]
  },
  {
   "cell_type": "code",
   "execution_count": null,
   "id": "07fd77db-cd70-4d49-b65d-8e0e40cc125b",
   "metadata": {},
   "outputs": [],
   "source": []
  }
 ],
 "metadata": {
  "kernelspec": {
   "display_name": "Python 3 (ipykernel)",
   "language": "python",
   "name": "python3"
  },
  "language_info": {
   "codemirror_mode": {
    "name": "ipython",
    "version": 3
   },
   "file_extension": ".py",
   "mimetype": "text/x-python",
   "name": "python",
   "nbconvert_exporter": "python",
   "pygments_lexer": "ipython3",
   "version": "3.12.3"
  }
 },
 "nbformat": 4,
 "nbformat_minor": 5
}
