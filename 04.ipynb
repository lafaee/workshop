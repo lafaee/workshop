{
 "cells": [
  {
   "cell_type": "markdown",
   "id": "75205ef5-3729-4f9a-bbd5-b08ab8a22a58",
   "metadata": {},
   "source": [
    "## Exception Handling"
   ]
  },
  {
   "cell_type": "markdown",
   "id": "9a713145-cac1-420d-82cb-ba7c18a4a454",
   "metadata": {},
   "source": [
    "- Try block: Code that might raise exceptions\n",
    "- Except block: Handles specific exceptions\n",
    "- as keyword: Captures exception object"
   ]
  },
  {
   "cell_type": "code",
   "execution_count": 1,
   "id": "a40abb59-5bef-481b-907a-7c927464620d",
   "metadata": {},
   "outputs": [
    {
     "name": "stdout",
     "output_type": "stream",
     "text": [
      "Error: division by zero\n"
     ]
    }
   ],
   "source": [
    "try:\n",
    "    result = 10 / 0\n",
    "except ZeroDivisionError as e:\n",
    "    print(f\"Error: {e}\")  # Output: Error: division by zero"
   ]
  },
  {
   "cell_type": "code",
   "execution_count": 4,
   "id": "07fd77db-cd70-4d49-b65d-8e0e40cc125b",
   "metadata": {},
   "outputs": [
    {
     "name": "stdin",
     "output_type": "stream",
     "text": [
      "Enter age:  \n"
     ]
    },
    {
     "name": "stdout",
     "output_type": "stream",
     "text": [
      "Please enter a number!\n"
     ]
    }
   ],
   "source": [
    "try:\n",
    "    age = int(input(\"Enter age: \"))\n",
    "    print(f\"You'll be {age + 10} in 10 years\")\n",
    "except ValueError:\n",
    "    print(\"Please enter a number!\")\n",
    "except KeyboardInterrupt:\n",
    "    print(\"\\nGoodbye!\")\n",
    "except Exception as e:\n",
    "    print(f\"Something went wrong: {type(e).__name__}\")"
   ]
  },
  {
   "cell_type": "code",
   "execution_count": 5,
   "id": "1901b35f-0820-4b9b-8f3f-d4150db87f22",
   "metadata": {},
   "outputs": [
    {
     "name": "stdout",
     "output_type": "stream",
     "text": [
      "File doesn't exist\n",
      "This always runs - good for cleanup\n"
     ]
    }
   ],
   "source": [
    "try:\n",
    "    file = open(\"data.txt\", \"r\")\n",
    "except FileNotFoundError:\n",
    "    print(\"File doesn't exist\")\n",
    "else:\n",
    "    print(\"File contents:\", file.read())\n",
    "    file.close()\n",
    "finally:\n",
    "    print(\"This always runs - good for cleanup\")"
   ]
  },
  {
   "cell_type": "code",
   "execution_count": null,
   "id": "3c2b5252-36bc-4f9b-8594-88c7a023fa7a",
   "metadata": {},
   "outputs": [],
   "source": []
  }
 ],
 "metadata": {
  "kernelspec": {
   "display_name": "Python 3 (ipykernel)",
   "language": "python",
   "name": "python3"
  },
  "language_info": {
   "codemirror_mode": {
    "name": "ipython",
    "version": 3
   },
   "file_extension": ".py",
   "mimetype": "text/x-python",
   "name": "python",
   "nbconvert_exporter": "python",
   "pygments_lexer": "ipython3",
   "version": "3.12.3"
  }
 },
 "nbformat": 4,
 "nbformat_minor": 5
}
